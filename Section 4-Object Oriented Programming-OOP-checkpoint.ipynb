{
 "cells": [
  {
   "cell_type": "code",
   "execution_count": null,
   "id": "a2443f70-3fba-4ec6-ba6d-28b8aaafe24f",
   "metadata": {},
   "outputs": [],
   "source": [
    "#Section 4:Object Oriented Programming(OOP)"
   ]
  },
  {
   "cell_type": "code",
   "execution_count": null,
   "id": "a3b82a75-005d-4cb3-b36e-3bfd0ae58faf",
   "metadata": {},
   "outputs": [],
   "source": [
    "#16 Logic of OOP"
   ]
  },
  {
   "cell_type": "code",
   "execution_count": 4,
   "id": "9cff34a9-59b1-4fd3-aa04-df59d7e232df",
   "metadata": {},
   "outputs": [],
   "source": [
    "#same attribute same values\n",
    "class Phone():\n",
    "    Brand=\"Apple\"\n",
    "    Model=\"iPhone\"\n",
    "    Colour=\"Black\"\n",
    "    Camera_Mp=\"12 Mp\"\n",
    "    Hdd=\"128 GB\"\n",
    "    RAM=\"3 GB\"\n",
    "    Platform=\"ios 12.3\""
   ]
  },
  {
   "cell_type": "code",
   "execution_count": 6,
   "id": "344bf933-9400-4cf0-80f9-e0034362d1b3",
   "metadata": {},
   "outputs": [],
   "source": [
    "MyPhone=Phone()"
   ]
  },
  {
   "cell_type": "code",
   "execution_count": 8,
   "id": "09776446-f7e4-4832-b8be-dd7d4798f65c",
   "metadata": {},
   "outputs": [
    {
     "data": {
      "text/plain": [
       "__main__.Phone"
      ]
     },
     "execution_count": 8,
     "metadata": {},
     "output_type": "execute_result"
    }
   ],
   "source": [
    "type(MyPhone)"
   ]
  },
  {
   "cell_type": "code",
   "execution_count": 10,
   "id": "46e6df39-010e-41c3-a748-0def86ae6e2c",
   "metadata": {},
   "outputs": [
    {
     "data": {
      "text/plain": [
       "'Apple'"
      ]
     },
     "execution_count": 10,
     "metadata": {},
     "output_type": "execute_result"
    }
   ],
   "source": [
    "MyPhone.Brand"
   ]
  },
  {
   "cell_type": "code",
   "execution_count": 12,
   "id": "a4bd2083-2aa0-493b-b50f-4a15376253d1",
   "metadata": {},
   "outputs": [
    {
     "data": {
      "text/plain": [
       "'Black'"
      ]
     },
     "execution_count": 12,
     "metadata": {},
     "output_type": "execute_result"
    }
   ],
   "source": [
    "MyPhone.Colour"
   ]
  },
  {
   "cell_type": "code",
   "execution_count": 14,
   "id": "d7e48b5c-ac7a-4fa7-93c2-73652d67322d",
   "metadata": {},
   "outputs": [],
   "source": [
    "MyPhone_2=Phone()"
   ]
  },
  {
   "cell_type": "code",
   "execution_count": 16,
   "id": "169af740-3eda-4c7c-a96e-0b50821d4dc4",
   "metadata": {},
   "outputs": [
    {
     "data": {
      "text/plain": [
       "'iPhone'"
      ]
     },
     "execution_count": 16,
     "metadata": {},
     "output_type": "execute_result"
    }
   ],
   "source": [
    "MyPhone_2.Model"
   ]
  },
  {
   "cell_type": "code",
   "execution_count": 18,
   "id": "ae67a95c-97d8-4156-a1e9-1deec23f3519",
   "metadata": {},
   "outputs": [
    {
     "data": {
      "text/plain": [
       "'Black'"
      ]
     },
     "execution_count": 18,
     "metadata": {},
     "output_type": "execute_result"
    }
   ],
   "source": [
    "MyPhone_2.Colour"
   ]
  },
  {
   "cell_type": "code",
   "execution_count": null,
   "id": "11d0dc3f-8f62-490e-aae2-33030e05df0a",
   "metadata": {},
   "outputs": [],
   "source": [
    "#17 Constructor of Object Oriented Programming (OOP)"
   ]
  },
  {
   "cell_type": "code",
   "execution_count": 20,
   "id": "22946c06-7c4e-4cd1-95c2-d2dde3eee77c",
   "metadata": {},
   "outputs": [],
   "source": [
    "#same attributes diffrent values"
   ]
  },
  {
   "cell_type": "code",
   "execution_count": 22,
   "id": "f644d33d-dac2-4f01-97d8-17293dd56ef1",
   "metadata": {},
   "outputs": [
    {
     "data": {
      "text/plain": [
       "['Brand',\n",
       " 'Camera_Mp',\n",
       " 'Colour',\n",
       " 'Hdd',\n",
       " 'Model',\n",
       " 'Platform',\n",
       " 'RAM',\n",
       " '__class__',\n",
       " '__delattr__',\n",
       " '__dict__',\n",
       " '__dir__',\n",
       " '__doc__',\n",
       " '__eq__',\n",
       " '__format__',\n",
       " '__ge__',\n",
       " '__getattribute__',\n",
       " '__getstate__',\n",
       " '__gt__',\n",
       " '__hash__',\n",
       " '__init__',\n",
       " '__init_subclass__',\n",
       " '__le__',\n",
       " '__lt__',\n",
       " '__module__',\n",
       " '__ne__',\n",
       " '__new__',\n",
       " '__reduce__',\n",
       " '__reduce_ex__',\n",
       " '__repr__',\n",
       " '__setattr__',\n",
       " '__sizeof__',\n",
       " '__str__',\n",
       " '__subclasshook__',\n",
       " '__weakref__']"
      ]
     },
     "execution_count": 22,
     "metadata": {},
     "output_type": "execute_result"
    }
   ],
   "source": [
    "dir(MyPhone)"
   ]
  },
  {
   "cell_type": "code",
   "execution_count": 44,
   "id": "41193467-ce3e-489c-9ec2-3af83e0d3696",
   "metadata": {},
   "outputs": [],
   "source": [
    "class Phone():\n",
    "    def __init__(self):\n",
    "        print(\"the function was called.\")"
   ]
  },
  {
   "cell_type": "code",
   "execution_count": 46,
   "id": "c2200b71-789c-4696-88e8-25b3c2b8e1f4",
   "metadata": {},
   "outputs": [
    {
     "name": "stdout",
     "output_type": "stream",
     "text": [
      "the function was called.\n"
     ]
    }
   ],
   "source": [
    "Phone_1=Phone()"
   ]
  },
  {
   "cell_type": "code",
   "execution_count": 66,
   "id": "6607a6d9-343d-4cdc-86e3-a85b45d06e53",
   "metadata": {},
   "outputs": [],
   "source": [
    "class Phone():\n",
    "    def __init__(self,Brand,Model,Colour,Camera_Mp,Hdd,RAM,Platform):\n",
    "        self.Brand=Brand\n",
    "        self.Model=Model\n",
    "        self.Colour=Colour\n",
    "        self.Camera_Mp=Camera_Mp\n",
    "        self.Hdd=Hdd\n",
    "        self.RAM=RAM\n",
    "        self.Platform=Platform"
   ]
  },
  {
   "cell_type": "code",
   "execution_count": 70,
   "id": "08c465db-65a7-4499-815c-2a17fcefbf3d",
   "metadata": {},
   "outputs": [],
   "source": [
    "MyPhone=Phone(\"Huawei\",\"Mate 20 Pro\",\"Black\",\"40mp\",\"128 GB\",\"6 GB\",\"Android 9.0\")"
   ]
  },
  {
   "cell_type": "code",
   "execution_count": 73,
   "id": "fbb1f3d9-6984-4ae7-9d6d-b2a1e503825e",
   "metadata": {},
   "outputs": [
    {
     "data": {
      "text/plain": [
       "'Huawei'"
      ]
     },
     "execution_count": 73,
     "metadata": {},
     "output_type": "execute_result"
    }
   ],
   "source": [
    "MyPhone.Brand"
   ]
  },
  {
   "cell_type": "code",
   "execution_count": 75,
   "id": "9755d6ec-c8ed-49fc-b109-935feb73ad60",
   "metadata": {},
   "outputs": [
    {
     "data": {
      "text/plain": [
       "'6 GB'"
      ]
     },
     "execution_count": 75,
     "metadata": {},
     "output_type": "execute_result"
    }
   ],
   "source": [
    "MyPhone.RAM"
   ]
  },
  {
   "cell_type": "code",
   "execution_count": 77,
   "id": "23d29c91-25da-4026-8810-e8c58b2c0774",
   "metadata": {},
   "outputs": [],
   "source": [
    "JohnsPhone=Phone(\"Apple\",\"iPhone X\",\"Silver\",\"12 Mp\",\"64 GB\",\"3 GB\",\"ios 12.3\")"
   ]
  },
  {
   "cell_type": "code",
   "execution_count": 79,
   "id": "2f2533e1-6ccd-4fda-b62a-729a41babb69",
   "metadata": {},
   "outputs": [
    {
     "data": {
      "text/plain": [
       "'ios 12.3'"
      ]
     },
     "execution_count": 79,
     "metadata": {},
     "output_type": "execute_result"
    }
   ],
   "source": [
    "JohnsPhone.Platform"
   ]
  },
  {
   "cell_type": "code",
   "execution_count": 81,
   "id": "9ed68938-1d39-46e1-a2d1-ae63e233b79d",
   "metadata": {},
   "outputs": [
    {
     "data": {
      "text/plain": [
       "'Apple'"
      ]
     },
     "execution_count": 81,
     "metadata": {},
     "output_type": "execute_result"
    }
   ],
   "source": [
    "JohnsPhone.Brand"
   ]
  },
  {
   "cell_type": "code",
   "execution_count": 83,
   "id": "b50294df-a42d-4377-8dfb-81579368d7c9",
   "metadata": {},
   "outputs": [],
   "source": [
    "class Phone():\n",
    "    def __init__(self,Brand,Model,Colour,Camera_Mp=\"No Information\",Hdd=\"No Information\",RAM=\"No Information\",Platform=\"No Information\"):\n",
    "        self.Brand=Brand\n",
    "        self.Model=Model\n",
    "        self.Colour=Colour\n",
    "        self.Camera_Mp=Camera_Mp\n",
    "        self.Hdd=Hdd\n",
    "        self.RAM=RAM\n",
    "        self.Platform=Platform"
   ]
  },
  {
   "cell_type": "code",
   "execution_count": 85,
   "id": "a324e0ad-bf88-458a-bb72-138ece2ef210",
   "metadata": {},
   "outputs": [],
   "source": [
    "JacksPhone=Phone(\"Xiomi\",\"Mi 8\",\"Blue\")"
   ]
  },
  {
   "cell_type": "code",
   "execution_count": 87,
   "id": "c92d8a85-7bca-4099-9128-64102051a534",
   "metadata": {},
   "outputs": [
    {
     "data": {
      "text/plain": [
       "'Xiomi'"
      ]
     },
     "execution_count": 87,
     "metadata": {},
     "output_type": "execute_result"
    }
   ],
   "source": [
    "JacksPhone.Brand"
   ]
  },
  {
   "cell_type": "code",
   "execution_count": 89,
   "id": "10ff413a-e1ac-47b4-a651-68aad129a88d",
   "metadata": {},
   "outputs": [
    {
     "data": {
      "text/plain": [
       "'No Information'"
      ]
     },
     "execution_count": 89,
     "metadata": {},
     "output_type": "execute_result"
    }
   ],
   "source": [
    "JacksPhone.Platform"
   ]
  },
  {
   "cell_type": "code",
   "execution_count": 95,
   "id": "8b211346-b9e7-4553-a346-cae8513b87bc",
   "metadata": {},
   "outputs": [],
   "source": [
    "#18 Methods in Object Oriented Programming"
   ]
  },
  {
   "cell_type": "code",
   "execution_count": 103,
   "id": "d7c387a2-53ab-42df-aa14-3060c460ed05",
   "metadata": {},
   "outputs": [],
   "source": [
    "class Student():\n",
    "    def __init__(self,name,surname,grade,class_number,gender,birth_date):\n",
    "        self.name=name\n",
    "        self.surname=surname\n",
    "        self.grade=grade\n",
    "        self.class_number=class_number\n",
    "        self.gender=gender\n",
    "        self.birth_date=birth_date  "
   ]
  },
  {
   "cell_type": "code",
   "execution_count": 105,
   "id": "8308a89c-5061-49a3-8037-ddc7227688f9",
   "metadata": {},
   "outputs": [],
   "source": [
    "Student1=Student(\"John\",\"Doe\",\"3rd\",\"1\",\"male\",\"26/10/2004\")"
   ]
  },
  {
   "cell_type": "code",
   "execution_count": 107,
   "id": "e072525d-7704-416e-818f-93ade1e555b9",
   "metadata": {},
   "outputs": [
    {
     "data": {
      "text/plain": [
       "'John'"
      ]
     },
     "execution_count": 107,
     "metadata": {},
     "output_type": "execute_result"
    }
   ],
   "source": [
    "Student1.name"
   ]
  },
  {
   "cell_type": "code",
   "execution_count": 109,
   "id": "c2744284-2804-4475-9f48-2f464f6058e0",
   "metadata": {},
   "outputs": [
    {
     "data": {
      "text/plain": [
       "'26/10/2004'"
      ]
     },
     "execution_count": 109,
     "metadata": {},
     "output_type": "execute_result"
    }
   ],
   "source": [
    "Student1.birth_date"
   ]
  },
  {
   "cell_type": "code",
   "execution_count": 155,
   "id": "d2a5ef53-f726-41fc-a44d-7a9a128e3f4d",
   "metadata": {},
   "outputs": [],
   "source": [
    "class Student():\n",
    "    def __init__(self,name,surname,grade,class_number,gender,birth_date):\n",
    "        self.name=name\n",
    "        self.surname=surname\n",
    "        self.grade=grade\n",
    "        self.class_number=class_number\n",
    "        self.gender=gender\n",
    "        self.birth_date=birth_date\n",
    "    def Show_Info(self):\n",
    "        print(\"Student Information\",\n",
    "              \"\\n Name:\",self.name,\n",
    "              \"\\n Surname:\",self.surname,\n",
    "              \"\\n grade:\",self.grade,\n",
    "              \"\\n class_number:\",self.class_number,\n",
    "              \"\\n gender:\",self.gender,\n",
    "              \"\\n birth_date:\",self.birth_date)"
   ]
  },
  {
   "cell_type": "code",
   "execution_count": 157,
   "id": "7265b20a-85d7-4de2-99a7-5c3414c06ed0",
   "metadata": {},
   "outputs": [],
   "source": [
    "Student2=Student(\"yash\",\"bhandage\",\"1st\",\"1\",\"male\",\"13/10/2015\")"
   ]
  },
  {
   "cell_type": "code",
   "execution_count": 159,
   "id": "ad8be7c3-2fcb-469c-864d-d5c426241ecb",
   "metadata": {},
   "outputs": [
    {
     "name": "stdout",
     "output_type": "stream",
     "text": [
      "Student Information \n",
      " Name: yash \n",
      " Surname: bhandage \n",
      " grade: 1st \n",
      " class_number: 1 \n",
      " gender: male \n",
      " birth_date: 13/10/2015\n"
     ]
    }
   ],
   "source": [
    "Student2.Show_Info()"
   ]
  },
  {
   "cell_type": "code",
   "execution_count": 161,
   "id": "7ce7d839-516f-44a3-b939-34c39750f263",
   "metadata": {},
   "outputs": [],
   "source": [
    "#19 Inheritance in Object Oriented Programming"
   ]
  },
  {
   "cell_type": "code",
   "execution_count": 165,
   "id": "0fa2e314-5353-4bc9-9c4c-2f63e3cc7862",
   "metadata": {},
   "outputs": [],
   "source": [
    "class Teacher():\n",
    "    def __init__(self,name,surname,profession,classes,gender,birth_date):\n",
    "        self.name=name\n",
    "        self.surname=surname\n",
    "        self.profession=profession\n",
    "        self.classes=classes\n",
    "        self.gender=gender\n",
    "        self.birth_date=birth_date\n",
    "    def Show_Info(self):\n",
    "        print(\"Student Information\",\n",
    "              \"\\n Name:\",self.name,\n",
    "              \"\\n Surname:\",self.surname,\n",
    "              \"\\n Profession:\",self.profession,\n",
    "              \"\\n classes:\",self.classes,\n",
    "              \"\\n gender:\",self.gender,\n",
    "              \"\\n birth_date:\",self.birth_date)"
   ]
  },
  {
   "cell_type": "code",
   "execution_count": 167,
   "id": "5d694340-6476-48ad-8f26-8d29397f85d6",
   "metadata": {},
   "outputs": [],
   "source": [
    "class Headmaster(Teacher):\n",
    "    pass"
   ]
  },
  {
   "cell_type": "code",
   "execution_count": 169,
   "id": "7e2bb62e-1c1e-4004-88c8-904e60a55370",
   "metadata": {},
   "outputs": [],
   "source": [
    "Headmaster_1=Headmaster(\"John\",\"Doe\",\"Headmaster\",\"None\",\"male\",\"01/01/1978\")"
   ]
  },
  {
   "cell_type": "code",
   "execution_count": 171,
   "id": "b4c856a0-4bbe-451a-b349-fef7b4e7b570",
   "metadata": {},
   "outputs": [
    {
     "name": "stdout",
     "output_type": "stream",
     "text": [
      "Student Information \n",
      " Name: John \n",
      " Surname: Doe \n",
      " Profession: Headmaster \n",
      " classes: None \n",
      " gender: male \n",
      " birth_date: 01/01/1978\n"
     ]
    }
   ],
   "source": [
    "Headmaster_1.Show_Info()"
   ]
  },
  {
   "cell_type": "code",
   "execution_count": 173,
   "id": "9a25b98e-8549-469d-8526-8e4d019c7813",
   "metadata": {},
   "outputs": [],
   "source": [
    "#to add extra functions and attributes into the headmaster class "
   ]
  },
  {
   "cell_type": "code",
   "execution_count": 213,
   "id": "e40fd693-435e-41a0-a2aa-f9583e96c94d",
   "metadata": {},
   "outputs": [],
   "source": [
    "class Headmaster(Teacher):\n",
    "    def Change_Class(self,new_class):\n",
    "        print(\"Changing class...\")\n",
    "        self.classes=new_class"
   ]
  },
  {
   "cell_type": "code",
   "execution_count": 215,
   "id": "4b35d90f-f44c-41aa-8008-7239346d044c",
   "metadata": {},
   "outputs": [],
   "source": [
    "Headmaster_2=Headmaster(\"Jack\",\"Doe\",\"Headmaster\",\"None\",\"Male\",\"02/02/1987\")"
   ]
  },
  {
   "cell_type": "code",
   "execution_count": 217,
   "id": "68fd5925-1d96-4be5-96dc-b89413201576",
   "metadata": {},
   "outputs": [
    {
     "name": "stdout",
     "output_type": "stream",
     "text": [
      "Student Information \n",
      " Name: Jack \n",
      " Surname: Doe \n",
      " Profession: Headmaster \n",
      " classes: None \n",
      " gender: Male \n",
      " birth_date: 02/02/1987\n"
     ]
    }
   ],
   "source": [
    "Headmaster_2.Show_Info()"
   ]
  },
  {
   "cell_type": "code",
   "execution_count": 219,
   "id": "0ab932f0-98d3-4900-9d9c-21692887fcd8",
   "metadata": {},
   "outputs": [
    {
     "name": "stdout",
     "output_type": "stream",
     "text": [
      "Changing class...\n"
     ]
    }
   ],
   "source": [
    "Headmaster_2.Change_Class(\"10\")"
   ]
  },
  {
   "cell_type": "code",
   "execution_count": 221,
   "id": "496c0de6-d649-4503-b01a-ad131ea7dcf2",
   "metadata": {},
   "outputs": [
    {
     "name": "stdout",
     "output_type": "stream",
     "text": [
      "Student Information \n",
      " Name: Jack \n",
      " Surname: Doe \n",
      " Profession: Headmaster \n",
      " classes: 10 \n",
      " gender: Male \n",
      " birth_date: 02/02/1987\n"
     ]
    }
   ],
   "source": [
    "Headmaster_2.Show_Info()"
   ]
  },
  {
   "cell_type": "code",
   "execution_count": 223,
   "id": "baecf031-436f-4dce-ab77-22b677984a1f",
   "metadata": {},
   "outputs": [],
   "source": [
    "#20 Overriding and Overloading OOP"
   ]
  },
  {
   "cell_type": "code",
   "execution_count": 225,
   "id": "c83ce058-75bb-4ec7-8506-b4db5ee30d43",
   "metadata": {},
   "outputs": [],
   "source": [
    "#Overriding"
   ]
  },
  {
   "cell_type": "code",
   "execution_count": 227,
   "id": "ab9e0e8c-01c3-4d7e-abcc-a5b2471f8d07",
   "metadata": {},
   "outputs": [],
   "source": [
    "class Teacher():\n",
    "    def __init__(self,name,surname,profession,classes,gender,birth_date):\n",
    "        self.name=name\n",
    "        self.surname=surname\n",
    "        self.profession=profession\n",
    "        self.classes=classes\n",
    "        self.gender=gender\n",
    "        self.birth_date=birth_date\n",
    "    def Show_Info(self):\n",
    "        print(\"Student Information\",\n",
    "              \"\\n Name:\",self.name,\n",
    "              \"\\n Surname:\",self.surname,\n",
    "              \"\\n Profession:\",self.profession,\n",
    "              \"\\n classes:\",self.classes,\n",
    "              \"\\n gender:\",self.gender,\n",
    "              \"\\n birth_date:\",self.birth_date)"
   ]
  },
  {
   "cell_type": "code",
   "execution_count": 233,
   "id": "f9ce7efe-d1b1-4b12-892a-8be42385bd3c",
   "metadata": {},
   "outputs": [],
   "source": [
    "class Headmaster(Teacher):\n",
    "    def __init__(self,name,surname,profession,classes,gender,birth_date,add_event):\n",
    "        self.name=name\n",
    "        self.surname=surname\n",
    "        self.profession=profession\n",
    "        self.classes=classes\n",
    "        self.gender=gender\n",
    "        self.birth_date=birth_date\n",
    "        self.add_event=add_event\n",
    "    def Change_Class(self,new_class):\n",
    "        print(\"Changing class...\")\n",
    "        self.classes=new_class\n",
    "    def Show_Info(self):\n",
    "        print(\"Headmaster's Information\",\n",
    "              \"\\n Name:\",self.name,\n",
    "              \"\\n Surname:\",self.surname,\n",
    "              \"\\n Profession:\",self.profession,\n",
    "              \"\\n classes:\",self.classes,\n",
    "              \"\\n gender:\",self.gender,\n",
    "              \"\\n birth_date:\",self.birth_date,\n",
    "              \"\\n Add_Event:\",self.add_event)"
   ]
  },
  {
   "cell_type": "code",
   "execution_count": 235,
   "id": "895ed6aa-9f9f-4ff9-b239-56ba6b067e79",
   "metadata": {},
   "outputs": [],
   "source": [
    "Headmaster_3=Headmaster(\"William\",\"Doe\",\"Headmaster\",\"None\",\"male\",\"09/09/1970\",\"True\")"
   ]
  },
  {
   "cell_type": "code",
   "execution_count": 237,
   "id": "976dc9cf-74c9-46f2-b8c5-097fdabd1134",
   "metadata": {},
   "outputs": [
    {
     "name": "stdout",
     "output_type": "stream",
     "text": [
      "Headmaster's Information \n",
      " Name: William \n",
      " Surname: Doe \n",
      " Profession: Headmaster \n",
      " classes: None \n",
      " gender: male \n",
      " birth_date: 09/09/1970 \n",
      " Add_Event: True\n"
     ]
    }
   ],
   "source": [
    "Headmaster_3.Show_Info()"
   ]
  },
  {
   "cell_type": "code",
   "execution_count": 239,
   "id": "ea31db78-8824-42cb-8760-6bca8a16c274",
   "metadata": {},
   "outputs": [],
   "source": [
    "#Overloading"
   ]
  },
  {
   "cell_type": "code",
   "execution_count": 243,
   "id": "3ad76aa7-96f4-4bef-bb91-d5c947e4d939",
   "metadata": {},
   "outputs": [],
   "source": [
    "class car():\n",
    "    pass"
   ]
  },
  {
   "cell_type": "code",
   "execution_count": 245,
   "id": "1b9990b2-30c5-44ae-a6b7-fa5cd6b0b283",
   "metadata": {},
   "outputs": [],
   "source": [
    "car_1=car()"
   ]
  },
  {
   "cell_type": "code",
   "execution_count": 250,
   "id": "ffbd6aeb-df93-40eb-99be-761136c995b5",
   "metadata": {},
   "outputs": [],
   "source": [
    "class car():\n",
    "    def __init__(self,brand,model,fuel,colour,year,transmission):\n",
    "        print(\"Creating car object\")\n",
    "        self.brand=brand\n",
    "        self.model=model\n",
    "        self.fuel=fuel\n",
    "        self.colour=colour\n",
    "        self.year=year\n",
    "        self.transmission=transmission"
   ]
  },
  {
   "cell_type": "code",
   "execution_count": 252,
   "id": "f24914a0-85d6-415e-906b-945599ccd22b",
   "metadata": {},
   "outputs": [
    {
     "name": "stdout",
     "output_type": "stream",
     "text": [
      "Creating car object\n"
     ]
    }
   ],
   "source": [
    "car_2=car(\"Alfa Romeo\",\"Giullia\",\"Petrol\",\"Red\",\"2017\",\"manual\")"
   ]
  },
  {
   "cell_type": "code",
   "execution_count": 254,
   "id": "4c690b06-8528-403c-8ff1-162bf14d1b73",
   "metadata": {},
   "outputs": [
    {
     "name": "stdout",
     "output_type": "stream",
     "text": [
      "<__main__.car object at 0x0000017F3AFE5730>\n"
     ]
    }
   ],
   "source": [
    "print(car_2)"
   ]
  },
  {
   "cell_type": "code",
   "execution_count": 274,
   "id": "2050c595-a280-4cc9-817f-7443f4df526d",
   "metadata": {},
   "outputs": [],
   "source": [
    "class car():\n",
    "    def __init__(self,brand,model,fuel,colour,year,transmission):\n",
    "        print(\"Creating car object\")\n",
    "        self.brand=brand\n",
    "        self.model=model\n",
    "        self.fuel=fuel\n",
    "        self.colour=colour\n",
    "        self.year=year\n",
    "        self.transmission=transmission\n",
    "    def __str__(self):\n",
    "        return \"Brand:{}\\nModel:{}\\nFuel:{}\\nColour:{}\\nYear:{}\\nTransmission:{}\".format(self.brand,self.model,self.fuel,self.colour,self.year,self.transmission)\n",
    "    def __del__(self):\n",
    "        print(\"Deleting car object\")"
   ]
  },
  {
   "cell_type": "code",
   "execution_count": 276,
   "id": "17d85299-d06c-45aa-aacc-f3c632fc9ce4",
   "metadata": {},
   "outputs": [
    {
     "name": "stdout",
     "output_type": "stream",
     "text": [
      "Creating car object\n"
     ]
    }
   ],
   "source": [
    "car_2=car(\"Alfa Romeo\",\"Giullia\",\"Petrol\",\"Red\",\"2017\",\"manual\")"
   ]
  },
  {
   "cell_type": "code",
   "execution_count": 278,
   "id": "e00e8a83-379d-4ee0-9073-309ff1ff47c8",
   "metadata": {},
   "outputs": [
    {
     "name": "stdout",
     "output_type": "stream",
     "text": [
      "Brand:Alfa Romeo\n",
      "Model:Giullia\n",
      "Fuel:Petrol\n",
      "Colour:Red\n",
      "Year:2017\n",
      "Transmission:manual\n"
     ]
    }
   ],
   "source": [
    "print(car_2)"
   ]
  },
  {
   "cell_type": "code",
   "execution_count": 280,
   "id": "da04facc-d50b-4777-80fd-74ee203637e4",
   "metadata": {},
   "outputs": [
    {
     "name": "stdout",
     "output_type": "stream",
     "text": [
      "Creating car object\n"
     ]
    }
   ],
   "source": [
    "car_3=car(\"Bentely\",\"Brooklands\",\"Petrol\",\"Black\",\"1997\",\"Automatic\")"
   ]
  },
  {
   "cell_type": "code",
   "execution_count": 282,
   "id": "4ce0eb51-28c1-42f7-997d-7cc35923b772",
   "metadata": {},
   "outputs": [
    {
     "name": "stdout",
     "output_type": "stream",
     "text": [
      "Brand:Bentely\n",
      "Model:Brooklands\n",
      "Fuel:Petrol\n",
      "Colour:Black\n",
      "Year:1997\n",
      "Transmission:Automatic\n"
     ]
    }
   ],
   "source": [
    "print (car_3)"
   ]
  },
  {
   "cell_type": "code",
   "execution_count": 284,
   "id": "f1259e0a-524f-4571-afa7-1544bc287066",
   "metadata": {},
   "outputs": [
    {
     "name": "stdout",
     "output_type": "stream",
     "text": [
      "Deleting car object\n"
     ]
    }
   ],
   "source": [
    "del car_3"
   ]
  },
  {
   "cell_type": "code",
   "execution_count": 286,
   "id": "c07335a2-1f7e-479c-af66-7d87fcb939c0",
   "metadata": {},
   "outputs": [
    {
     "ename": "NameError",
     "evalue": "name 'car_3' is not defined",
     "output_type": "error",
     "traceback": [
      "\u001b[1;31m---------------------------------------------------------------------------\u001b[0m",
      "\u001b[1;31mNameError\u001b[0m                                 Traceback (most recent call last)",
      "Cell \u001b[1;32mIn[286], line 1\u001b[0m\n\u001b[1;32m----> 1\u001b[0m \u001b[38;5;28mprint\u001b[39m (car_3)\n",
      "\u001b[1;31mNameError\u001b[0m: name 'car_3' is not defined"
     ]
    }
   ],
   "source": [
    "print (car_3)"
   ]
  },
  {
   "cell_type": "code",
   "execution_count": null,
   "id": "77b78c65-10f4-4887-98d0-084a4e593cdf",
   "metadata": {},
   "outputs": [],
   "source": []
  }
 ],
 "metadata": {
  "kernelspec": {
   "display_name": "Python 3",
   "language": "python",
   "name": "python3"
  },
  "language_info": {
   "codemirror_mode": {
    "name": "ipython",
    "version": 3
   },
   "file_extension": ".py",
   "mimetype": "text/x-python",
   "name": "python",
   "nbconvert_exporter": "python",
   "pygments_lexer": "ipython3",
   "version": "3.12.7"
  }
 },
 "nbformat": 4,
 "nbformat_minor": 5
}
