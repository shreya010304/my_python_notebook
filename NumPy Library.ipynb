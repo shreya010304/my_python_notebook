{
 "cells": [
  {
   "cell_type": "code",
   "execution_count": 2,
   "id": "191489ce-335f-4240-b0bb-569b9148d2c5",
   "metadata": {},
   "outputs": [],
   "source": [
    "#section 5 NumPy Library"
   ]
  },
  {
   "cell_type": "code",
   "execution_count": 4,
   "id": "85e56695-84b0-4214-9f21-5b9e96b43d83",
   "metadata": {},
   "outputs": [],
   "source": [
    "#23 The Power of NumPy"
   ]
  },
  {
   "cell_type": "code",
   "execution_count": 6,
   "id": "c95251fc-c46f-4796-8074-74dcaac688fb",
   "metadata": {},
   "outputs": [
    {
     "data": {
      "text/plain": [
       "range(0, 5)"
      ]
     },
     "execution_count": 6,
     "metadata": {},
     "output_type": "execute_result"
    }
   ],
   "source": [
    "range(0,5)"
   ]
  },
  {
   "cell_type": "code",
   "execution_count": 8,
   "id": "0fc27fc1-9d28-4d40-87fe-ef0a37079c25",
   "metadata": {},
   "outputs": [
    {
     "data": {
      "text/plain": [
       "[0, 1, 2, 3, 4]"
      ]
     },
     "execution_count": 8,
     "metadata": {},
     "output_type": "execute_result"
    }
   ],
   "source": [
    "list(range(0,5))"
   ]
  },
  {
   "cell_type": "code",
   "execution_count": null,
   "id": "2a24759c-f13f-42f6-8bff-9480317cd114",
   "metadata": {},
   "outputs": [],
   "source": [
    "#multiplying 2 lists"
   ]
  },
  {
   "cell_type": "code",
   "execution_count": 10,
   "id": "b9ed2799-aaa1-45b6-a4f3-8eb6e1cc9a71",
   "metadata": {},
   "outputs": [],
   "source": [
    "list1=[1,3,5,7,9]\n",
    "list2=[2,4,6,8,10]"
   ]
  },
  {
   "cell_type": "code",
   "execution_count": 12,
   "id": "eeeac925-677f-4d85-8539-5f8c450a1230",
   "metadata": {},
   "outputs": [
    {
     "ename": "TypeError",
     "evalue": "can't multiply sequence by non-int of type 'list'",
     "output_type": "error",
     "traceback": [
      "\u001b[1;31m---------------------------------------------------------------------------\u001b[0m",
      "\u001b[1;31mTypeError\u001b[0m                                 Traceback (most recent call last)",
      "Cell \u001b[1;32mIn[12], line 1\u001b[0m\n\u001b[1;32m----> 1\u001b[0m list1\u001b[38;5;241m*\u001b[39mlist2\n",
      "\u001b[1;31mTypeError\u001b[0m: can't multiply sequence by non-int of type 'list'"
     ]
    }
   ],
   "source": [
    "list1*list2"
   ]
  },
  {
   "cell_type": "code",
   "execution_count": 16,
   "id": "f5cdac8a-46a2-4082-bb79-49bb4e4ed97b",
   "metadata": {},
   "outputs": [
    {
     "name": "stdout",
     "output_type": "stream",
     "text": [
      "[2, 12, 30, 56, 90]\n"
     ]
    }
   ],
   "source": [
    "new_list=[]\n",
    "for i in range (0,len(list1)):\n",
    "    x=list1[i]*list2[i]\n",
    "    new_list.append(x)\n",
    "print(new_list)"
   ]
  },
  {
   "cell_type": "code",
   "execution_count": 18,
   "id": "cde208ca-1361-4434-9f9a-9744831b26ef",
   "metadata": {},
   "outputs": [],
   "source": [
    "#multiplying 2 lists using NumPy"
   ]
  },
  {
   "cell_type": "code",
   "execution_count": 20,
   "id": "38bae7bb-d1b5-444e-b5a3-b1acad5b1916",
   "metadata": {},
   "outputs": [],
   "source": [
    "import numpy as np"
   ]
  },
  {
   "cell_type": "code",
   "execution_count": 22,
   "id": "4dfc4d8a-d56c-44d4-a860-3823082ee830",
   "metadata": {},
   "outputs": [],
   "source": [
    "x=np.array([1,3,5,7,9])\n",
    "y=np.array([2,4,6,8,10])"
   ]
  },
  {
   "cell_type": "code",
   "execution_count": 24,
   "id": "11c9cdbc-9bdc-4d47-af37-e29e3e1a5495",
   "metadata": {},
   "outputs": [
    {
     "name": "stdout",
     "output_type": "stream",
     "text": [
      "<class 'numpy.ndarray'>\n"
     ]
    }
   ],
   "source": [
    "print(type(x))"
   ]
  },
  {
   "cell_type": "code",
   "execution_count": 26,
   "id": "e1cae0cc-b6de-4564-bab7-c25e71abf703",
   "metadata": {},
   "outputs": [
    {
     "data": {
      "text/plain": [
       "array([ 2, 12, 30, 56, 90])"
      ]
     },
     "execution_count": 26,
     "metadata": {},
     "output_type": "execute_result"
    }
   ],
   "source": [
    "x*y"
   ]
  },
  {
   "cell_type": "code",
   "execution_count": 28,
   "id": "abb5928d-a142-402b-8bf1-9ef51b85649e",
   "metadata": {},
   "outputs": [],
   "source": [
    "#25 Creating NumPy Array with the Array() function"
   ]
  },
  {
   "cell_type": "code",
   "execution_count": 30,
   "id": "9e685daa-6df3-420c-b0ee-ff633ef4e2d8",
   "metadata": {},
   "outputs": [],
   "source": [
    "import numpy as np"
   ]
  },
  {
   "cell_type": "code",
   "execution_count": 32,
   "id": "1ac676cc-4f60-4f77-a4ec-a7b8799915df",
   "metadata": {},
   "outputs": [
    {
     "data": {
      "text/plain": [
       "array([2, 4, 6, 8])"
      ]
     },
     "execution_count": 32,
     "metadata": {},
     "output_type": "execute_result"
    }
   ],
   "source": [
    "np.array([2,4,6,8])"
   ]
  },
  {
   "cell_type": "code",
   "execution_count": 34,
   "id": "26d2d422-bae6-4604-9c63-5d472cbc4471",
   "metadata": {},
   "outputs": [],
   "source": [
    "variable=[5.8,9,7,5]"
   ]
  },
  {
   "cell_type": "code",
   "execution_count": 46,
   "id": "317c21ba-f3bb-428d-8208-b1ed705591e2",
   "metadata": {},
   "outputs": [
    {
     "name": "stdout",
     "output_type": "stream",
     "text": [
      "<class 'float'>\n",
      "<class 'int'>\n"
     ]
    }
   ],
   "source": [
    "print(type(variable[0]))\n",
    "print(type(variable[1]))"
   ]
  },
  {
   "cell_type": "code",
   "execution_count": 48,
   "id": "d25a2773-8c65-4d3c-9e97-5e24e44d07a2",
   "metadata": {},
   "outputs": [],
   "source": [
    "new_variable=np.array([5.8,9,7,5])"
   ]
  },
  {
   "cell_type": "code",
   "execution_count": 50,
   "id": "f3850784-5d4a-47c1-8f84-d19dd1afd3f3",
   "metadata": {},
   "outputs": [
    {
     "data": {
      "text/plain": [
       "array([5.8, 9. , 7. , 5. ])"
      ]
     },
     "execution_count": 50,
     "metadata": {},
     "output_type": "execute_result"
    }
   ],
   "source": [
    "new_variable"
   ]
  },
  {
   "cell_type": "code",
   "execution_count": 52,
   "id": "662e984a-1c24-4fd1-91ca-33703e9c7093",
   "metadata": {},
   "outputs": [
    {
     "data": {
      "text/plain": [
       "array([5, 9, 7, 5])"
      ]
     },
     "execution_count": 52,
     "metadata": {},
     "output_type": "execute_result"
    }
   ],
   "source": [
    "new_variable2=np.array([5.8,9,7,5],dtype=\"int\")\n",
    "new_variable2"
   ]
  },
  {
   "cell_type": "code",
   "execution_count": null,
   "id": "ef895b84-f473-4f23-b9c3-2d0f136f643b",
   "metadata": {},
   "outputs": [],
   "source": [
    "#26 Creating NumPy Array with the Zeros() function"
   ]
  },
  {
   "cell_type": "code",
   "execution_count": 68,
   "id": "18aa5cc2-87e4-4c95-8cec-652c46b5e70f",
   "metadata": {},
   "outputs": [],
   "source": [
    "import numpy as np"
   ]
  },
  {
   "cell_type": "code",
   "execution_count": 70,
   "id": "70ac6554-31bd-448c-a9c7-6396625e60c3",
   "metadata": {},
   "outputs": [
    {
     "data": {
      "text/plain": [
       "array([0., 0., 0., 0., 0.])"
      ]
     },
     "execution_count": 70,
     "metadata": {},
     "output_type": "execute_result"
    }
   ],
   "source": [
    "np.zeros(5)"
   ]
  },
  {
   "cell_type": "code",
   "execution_count": 74,
   "id": "583179d3-c6fa-40eb-b9ef-1880ff9b16b4",
   "metadata": {},
   "outputs": [
    {
     "data": {
      "text/plain": [
       "array([[0, 0, 0, 0, 0],\n",
       "       [0, 0, 0, 0, 0],\n",
       "       [0, 0, 0, 0, 0]])"
      ]
     },
     "execution_count": 74,
     "metadata": {},
     "output_type": "execute_result"
    }
   ],
   "source": [
    "np.zeros((3,5),dtype=\"int\")"
   ]
  },
  {
   "cell_type": "code",
   "execution_count": 76,
   "id": "a11f1326-a4a9-452c-b194-b80e8054ad11",
   "metadata": {},
   "outputs": [],
   "source": [
    "#27 Creating NumPy Array with the Ones() function"
   ]
  },
  {
   "cell_type": "code",
   "execution_count": 78,
   "id": "8a91d195-1854-42d6-8b94-8d3b7d1f6cc2",
   "metadata": {},
   "outputs": [],
   "source": [
    "import numpy as np"
   ]
  },
  {
   "cell_type": "code",
   "execution_count": 80,
   "id": "533ee78e-8d2c-4fd9-adcb-0d7b7e092db7",
   "metadata": {},
   "outputs": [
    {
     "data": {
      "text/plain": [
       "array([1., 1., 1., 1., 1., 1., 1., 1., 1., 1.])"
      ]
     },
     "execution_count": 80,
     "metadata": {},
     "output_type": "execute_result"
    }
   ],
   "source": [
    "np.ones(10)"
   ]
  },
  {
   "cell_type": "code",
   "execution_count": 82,
   "id": "2bfa9a6a-d6e4-4f7e-a989-e15315c66c8b",
   "metadata": {},
   "outputs": [
    {
     "data": {
      "text/plain": [
       "array([[[1, 1, 1, 1, 1],\n",
       "        [1, 1, 1, 1, 1],\n",
       "        [1, 1, 1, 1, 1],\n",
       "        [1, 1, 1, 1, 1]],\n",
       "\n",
       "       [[1, 1, 1, 1, 1],\n",
       "        [1, 1, 1, 1, 1],\n",
       "        [1, 1, 1, 1, 1],\n",
       "        [1, 1, 1, 1, 1]],\n",
       "\n",
       "       [[1, 1, 1, 1, 1],\n",
       "        [1, 1, 1, 1, 1],\n",
       "        [1, 1, 1, 1, 1],\n",
       "        [1, 1, 1, 1, 1]]])"
      ]
     },
     "execution_count": 82,
     "metadata": {},
     "output_type": "execute_result"
    }
   ],
   "source": [
    "np.ones((3,4,5),dtype=\"int\")"
   ]
  },
  {
   "cell_type": "code",
   "execution_count": 84,
   "id": "d9290f19-fab9-4fcb-89e0-11169922344a",
   "metadata": {},
   "outputs": [],
   "source": [
    "#28 Creating NumPy Array with the full() function"
   ]
  },
  {
   "cell_type": "code",
   "execution_count": 86,
   "id": "95969103-04d0-4bf1-a7b7-d7af3e222a4a",
   "metadata": {},
   "outputs": [],
   "source": [
    "import numpy as np"
   ]
  },
  {
   "cell_type": "code",
   "execution_count": 88,
   "id": "772e69e2-935a-47cf-8863-040a74712c5b",
   "metadata": {},
   "outputs": [
    {
     "data": {
      "text/plain": [
       "array([5, 5, 5, 5, 5, 5, 5, 5])"
      ]
     },
     "execution_count": 88,
     "metadata": {},
     "output_type": "execute_result"
    }
   ],
   "source": [
    "np.full(8,5)"
   ]
  },
  {
   "cell_type": "code",
   "execution_count": 90,
   "id": "0fc1d243-c756-44ce-a58b-8317e08b9690",
   "metadata": {},
   "outputs": [
    {
     "data": {
      "text/plain": [
       "array([[6., 6., 6.],\n",
       "       [6., 6., 6.]])"
      ]
     },
     "execution_count": 90,
     "metadata": {},
     "output_type": "execute_result"
    }
   ],
   "source": [
    "np.full((2,3),6,dtype=\"float\")"
   ]
  },
  {
   "cell_type": "code",
   "execution_count": 92,
   "id": "5bc8861f-97c0-4db4-96d9-7908f1a5d904",
   "metadata": {},
   "outputs": [],
   "source": [
    "#29 Creating NumPy Array with the arange() function"
   ]
  },
  {
   "cell_type": "code",
   "execution_count": 3,
   "id": "6add111b-5349-4c48-8433-9dbefee9be74",
   "metadata": {},
   "outputs": [],
   "source": [
    "import numpy as np"
   ]
  },
  {
   "cell_type": "code",
   "execution_count": 9,
   "id": "30e63959-96bb-4d23-a2e0-1d10f97afcf4",
   "metadata": {},
   "outputs": [
    {
     "data": {
      "text/plain": [
       "array([0, 1, 2])"
      ]
     },
     "execution_count": 9,
     "metadata": {},
     "output_type": "execute_result"
    }
   ],
   "source": [
    "np.arange(3)"
   ]
  },
  {
   "cell_type": "code",
   "execution_count": 17,
   "id": "a1505ff0-1838-4282-8177-02f04bfff36b",
   "metadata": {},
   "outputs": [],
   "source": [
    "var=np.arange(3,10,dtype=\"int\")"
   ]
  },
  {
   "cell_type": "code",
   "execution_count": 19,
   "id": "7963fb2f-4889-462d-ab91-6c2800c3954e",
   "metadata": {},
   "outputs": [
    {
     "data": {
      "text/plain": [
       "array([3, 4, 5, 6, 7, 8, 9])"
      ]
     },
     "execution_count": 19,
     "metadata": {},
     "output_type": "execute_result"
    }
   ],
   "source": [
    "var"
   ]
  },
  {
   "cell_type": "code",
   "execution_count": 21,
   "id": "7fda898f-41ec-46ef-bd4b-5985ade9ac0c",
   "metadata": {},
   "outputs": [
    {
     "data": {
      "text/plain": [
       "numpy.ndarray"
      ]
     },
     "execution_count": 21,
     "metadata": {},
     "output_type": "execute_result"
    }
   ],
   "source": [
    "type(var)"
   ]
  },
  {
   "cell_type": "code",
   "execution_count": 23,
   "id": "621f528b-0fa9-4a42-8faf-d0bf9b0b755e",
   "metadata": {},
   "outputs": [],
   "source": [
    "#30 Creating NumPy Array with the eye() function"
   ]
  },
  {
   "cell_type": "code",
   "execution_count": 25,
   "id": "113e2191-8810-4197-80c1-20667d6fdee2",
   "metadata": {},
   "outputs": [],
   "source": [
    "import numpy as np"
   ]
  },
  {
   "cell_type": "code",
   "execution_count": 27,
   "id": "f57537f8-eb50-4a41-bd58-f7b86cc60604",
   "metadata": {},
   "outputs": [
    {
     "data": {
      "text/plain": [
       "array([[1., 0., 0.],\n",
       "       [0., 1., 0.],\n",
       "       [0., 0., 1.]])"
      ]
     },
     "execution_count": 27,
     "metadata": {},
     "output_type": "execute_result"
    }
   ],
   "source": [
    "np.eye(3)"
   ]
  },
  {
   "cell_type": "code",
   "execution_count": 29,
   "id": "50aaad8c-825b-4a31-8f5d-98f6cd4991e2",
   "metadata": {},
   "outputs": [
    {
     "data": {
      "text/plain": [
       "array([[1., 0.],\n",
       "       [0., 1.],\n",
       "       [0., 0.]])"
      ]
     },
     "execution_count": 29,
     "metadata": {},
     "output_type": "execute_result"
    }
   ],
   "source": [
    "np.eye(3,2)"
   ]
  },
  {
   "cell_type": "code",
   "execution_count": 31,
   "id": "08a0d495-2c69-42be-b4af-bee5253b47fe",
   "metadata": {},
   "outputs": [
    {
     "data": {
      "text/plain": [
       "array([[ True, False],\n",
       "       [False,  True],\n",
       "       [False, False]])"
      ]
     },
     "execution_count": 31,
     "metadata": {},
     "output_type": "execute_result"
    }
   ],
   "source": [
    "np.eye(3,2,dtype=\"bool\")"
   ]
  },
  {
   "cell_type": "code",
   "execution_count": 33,
   "id": "e22e7ec3-1fe0-4784-8429-75db18767a2c",
   "metadata": {},
   "outputs": [],
   "source": [
    "#31 Creating NumPy Array with the linspace() function"
   ]
  },
  {
   "cell_type": "code",
   "execution_count": 35,
   "id": "3e60d47d-0e70-4627-8098-17ff33e8dd75",
   "metadata": {},
   "outputs": [],
   "source": [
    "import numpy as np"
   ]
  },
  {
   "cell_type": "code",
   "execution_count": 37,
   "id": "07deeb99-64d6-4ca2-8479-5f84fe3154fe",
   "metadata": {},
   "outputs": [
    {
     "data": {
      "text/plain": [
       "array([10., 15., 20., 25., 30.])"
      ]
     },
     "execution_count": 37,
     "metadata": {},
     "output_type": "execute_result"
    }
   ],
   "source": [
    "np.linspace(10,30,5)"
   ]
  },
  {
   "cell_type": "code",
   "execution_count": 39,
   "id": "ca486b46-0f57-4860-9651-e6b43c80d180",
   "metadata": {},
   "outputs": [
    {
     "data": {
      "text/plain": [
       "array([10, 15, 20, 25, 30])"
      ]
     },
     "execution_count": 39,
     "metadata": {},
     "output_type": "execute_result"
    }
   ],
   "source": [
    "np.linspace(10,30,5,dtype=\"int\")"
   ]
  },
  {
   "cell_type": "code",
   "execution_count": 41,
   "id": "fe987edd-e559-4d29-8bcc-1c114fc46cee",
   "metadata": {},
   "outputs": [],
   "source": [
    "#32 Creating NumPy Array with the random() function"
   ]
  },
  {
   "cell_type": "code",
   "execution_count": 43,
   "id": "5011c995-0cdc-4587-9c25-8f4873a6ae8a",
   "metadata": {},
   "outputs": [],
   "source": [
    "import numpy as np"
   ]
  },
  {
   "cell_type": "code",
   "execution_count": 45,
   "id": "f1ad7b60-361d-4a19-b561-4e8ac89d586d",
   "metadata": {},
   "outputs": [
    {
     "data": {
      "text/plain": [
       "array([0.48499953, 0.74061963, 0.31171903, 0.48314257, 0.3692235 ])"
      ]
     },
     "execution_count": 45,
     "metadata": {},
     "output_type": "execute_result"
    }
   ],
   "source": [
    "#rand function\n",
    "np.random.rand(5)"
   ]
  },
  {
   "cell_type": "code",
   "execution_count": 47,
   "id": "b0f1380b-f895-49c7-a001-ae329fdb6cca",
   "metadata": {},
   "outputs": [
    {
     "data": {
      "text/plain": [
       "array([[0.29613827, 0.91711498, 0.94173108],\n",
       "       [0.44448983, 0.71523913, 0.04639366]])"
      ]
     },
     "execution_count": 47,
     "metadata": {},
     "output_type": "execute_result"
    }
   ],
   "source": [
    "np.random.rand(2,3)"
   ]
  },
  {
   "cell_type": "code",
   "execution_count": 53,
   "id": "f1cba2e2-d68e-428b-ba63-4b239c645ee5",
   "metadata": {},
   "outputs": [
    {
     "data": {
      "text/plain": [
       "array([-1.14057777,  0.02928887, -0.56784772,  0.42923761,  0.59863594])"
      ]
     },
     "execution_count": 53,
     "metadata": {},
     "output_type": "execute_result"
    }
   ],
   "source": [
    "#randn function\n",
    "np.random.randn(5)"
   ]
  },
  {
   "cell_type": "code",
   "execution_count": 55,
   "id": "85782f24-0346-446f-8f81-076d11b7502a",
   "metadata": {},
   "outputs": [
    {
     "data": {
      "text/plain": [
       "array([[ 0.12873125,  1.74408169,  0.76367377],\n",
       "       [-1.31189247, -0.20525302,  2.23328147]])"
      ]
     },
     "execution_count": 55,
     "metadata": {},
     "output_type": "execute_result"
    }
   ],
   "source": [
    "np.random.randn(2,3)"
   ]
  },
  {
   "cell_type": "code",
   "execution_count": 57,
   "id": "5d395d39-67e9-4973-b64f-823de108befb",
   "metadata": {},
   "outputs": [
    {
     "data": {
      "text/plain": [
       "array([[16.34593941, 24.05973972, 17.96841848],\n",
       "       [27.27998301, 10.01759963, 22.96125252]])"
      ]
     },
     "execution_count": 57,
     "metadata": {},
     "output_type": "execute_result"
    }
   ],
   "source": [
    "#random.normal function\n",
    "np.random.normal(20,5,(2,3))"
   ]
  },
  {
   "cell_type": "code",
   "execution_count": 59,
   "id": "20310e71-6a52-4a00-a3bb-e078970622a1",
   "metadata": {},
   "outputs": [
    {
     "data": {
      "text/plain": [
       "array([[7, 0, 1],\n",
       "       [5, 2, 9]])"
      ]
     },
     "execution_count": 59,
     "metadata": {},
     "output_type": "execute_result"
    }
   ],
   "source": [
    "#randint function\n",
    "np.random.randint(0,10,(2,3))"
   ]
  },
  {
   "cell_type": "code",
   "execution_count": 61,
   "id": "c2b29a4d-f935-445a-85a0-6d833b578275",
   "metadata": {},
   "outputs": [],
   "source": [
    "#33 Properties of Numpy array"
   ]
  },
  {
   "cell_type": "code",
   "execution_count": 63,
   "id": "62b87c5d-c670-4caf-9460-5e59e7ee3853",
   "metadata": {},
   "outputs": [],
   "source": [
    "import numpy as np"
   ]
  },
  {
   "cell_type": "code",
   "execution_count": 65,
   "id": "9beae7fb-610f-4311-845e-8345d058b1c9",
   "metadata": {},
   "outputs": [],
   "source": [
    "matrix=np.random.randint(10,50,(5,4))"
   ]
  },
  {
   "cell_type": "code",
   "execution_count": 67,
   "id": "d97fc62f-7d33-47e4-89ee-f1edc27d7378",
   "metadata": {},
   "outputs": [
    {
     "data": {
      "text/plain": [
       "array([[21, 30, 36, 35],\n",
       "       [11, 13, 42, 47],\n",
       "       [10, 17, 24, 14],\n",
       "       [28, 47, 40, 19],\n",
       "       [28, 44, 20, 14]])"
      ]
     },
     "execution_count": 67,
     "metadata": {},
     "output_type": "execute_result"
    }
   ],
   "source": [
    "matrix"
   ]
  },
  {
   "cell_type": "code",
   "execution_count": 69,
   "id": "ffb2126d-e586-44e5-ab84-e76ad3a4ec73",
   "metadata": {},
   "outputs": [
    {
     "data": {
      "text/plain": [
       "2"
      ]
     },
     "execution_count": 69,
     "metadata": {},
     "output_type": "execute_result"
    }
   ],
   "source": [
    "matrix.ndim"
   ]
  },
  {
   "cell_type": "code",
   "execution_count": 71,
   "id": "727ff198-9d32-4e05-b2b3-5b6b45016723",
   "metadata": {},
   "outputs": [
    {
     "data": {
      "text/plain": [
       "(5, 4)"
      ]
     },
     "execution_count": 71,
     "metadata": {},
     "output_type": "execute_result"
    }
   ],
   "source": [
    "matrix.shape"
   ]
  },
  {
   "cell_type": "code",
   "execution_count": 73,
   "id": "0fe89655-e572-4e9d-bf63-08748f5a3309",
   "metadata": {},
   "outputs": [
    {
     "data": {
      "text/plain": [
       "20"
      ]
     },
     "execution_count": 73,
     "metadata": {},
     "output_type": "execute_result"
    }
   ],
   "source": [
    "matrix.size"
   ]
  },
  {
   "cell_type": "code",
   "execution_count": 75,
   "id": "96303e06-be8b-46e5-a39e-484fb3df3e43",
   "metadata": {},
   "outputs": [
    {
     "data": {
      "text/plain": [
       "dtype('int32')"
      ]
     },
     "execution_count": 75,
     "metadata": {},
     "output_type": "execute_result"
    }
   ],
   "source": [
    "matrix.dtype"
   ]
  },
  {
   "cell_type": "code",
   "execution_count": 81,
   "id": "d5f543ec-2b31-4524-b75e-15ab558db8a0",
   "metadata": {},
   "outputs": [
    {
     "data": {
      "text/plain": [
       "array([[44, 26],\n",
       "       [45, 36]])"
      ]
     },
     "execution_count": 81,
     "metadata": {},
     "output_type": "execute_result"
    }
   ],
   "source": [
    "matrix1=np.random.randint(10,50,(2,2))\n",
    "matrix1"
   ]
  },
  {
   "cell_type": "code",
   "execution_count": 83,
   "id": "4ea1aefc-1f1e-4edc-bcbc-35254eea959c",
   "metadata": {},
   "outputs": [
    {
     "data": {
      "text/plain": [
       "dtype('int32')"
      ]
     },
     "execution_count": 83,
     "metadata": {},
     "output_type": "execute_result"
    }
   ],
   "source": [
    "matrix1.dtype"
   ]
  },
  {
   "cell_type": "code",
   "execution_count": 85,
   "id": "c335f227-a187-4bc6-9f2c-d0c39e3468c9",
   "metadata": {},
   "outputs": [],
   "source": [
    "#Reshaping a NumPy array:Reshape() function"
   ]
  },
  {
   "cell_type": "code",
   "execution_count": 87,
   "id": "bfe14594-5fe6-4151-a11e-cd42983fc6b2",
   "metadata": {},
   "outputs": [],
   "source": [
    "import numpy as np"
   ]
  },
  {
   "cell_type": "code",
   "execution_count": 89,
   "id": "1fdb1959-b186-4d50-8539-8e0117a466a4",
   "metadata": {},
   "outputs": [],
   "source": [
    "example=np.arange(1,16)"
   ]
  },
  {
   "cell_type": "code",
   "execution_count": 91,
   "id": "41d692e3-0cb0-4308-9c13-2aa54b6631d0",
   "metadata": {},
   "outputs": [
    {
     "data": {
      "text/plain": [
       "array([ 1,  2,  3,  4,  5,  6,  7,  8,  9, 10, 11, 12, 13, 14, 15])"
      ]
     },
     "execution_count": 91,
     "metadata": {},
     "output_type": "execute_result"
    }
   ],
   "source": [
    "example"
   ]
  },
  {
   "cell_type": "code",
   "execution_count": 93,
   "id": "d0523a4c-a8d9-4090-a2b7-d833ab69826a",
   "metadata": {},
   "outputs": [
    {
     "data": {
      "text/plain": [
       "array([[ 1,  2,  3,  4,  5],\n",
       "       [ 6,  7,  8,  9, 10],\n",
       "       [11, 12, 13, 14, 15]])"
      ]
     },
     "execution_count": 93,
     "metadata": {},
     "output_type": "execute_result"
    }
   ],
   "source": [
    "example.reshape((3,5))"
   ]
  },
  {
   "cell_type": "code",
   "execution_count": 97,
   "id": "9b9e39d3-9116-43f2-9e17-f4475c53c876",
   "metadata": {},
   "outputs": [
    {
     "data": {
      "text/plain": [
       "array([[ 1,  2,  3,  4,  5,  6,  7,  8,  9, 10, 11, 12, 13, 14, 15]])"
      ]
     },
     "execution_count": 97,
     "metadata": {},
     "output_type": "execute_result"
    }
   ],
   "source": [
    "array=example.reshape((1,15))\n",
    "array"
   ]
  },
  {
   "cell_type": "code",
   "execution_count": 99,
   "id": "06383dd1-4a1c-47ad-94aa-8466a034a90f",
   "metadata": {},
   "outputs": [
    {
     "data": {
      "text/plain": [
       "1"
      ]
     },
     "execution_count": 99,
     "metadata": {},
     "output_type": "execute_result"
    }
   ],
   "source": [
    "example.ndim"
   ]
  },
  {
   "cell_type": "code",
   "execution_count": 101,
   "id": "48543df3-98c8-48db-80a3-b48a1a3f29a8",
   "metadata": {},
   "outputs": [
    {
     "data": {
      "text/plain": [
       "2"
      ]
     },
     "execution_count": 101,
     "metadata": {},
     "output_type": "execute_result"
    }
   ],
   "source": [
    "array.ndim"
   ]
  },
  {
   "cell_type": "code",
   "execution_count": 103,
   "id": "d7928e71-b848-4791-a92d-29e271cf0482",
   "metadata": {},
   "outputs": [
    {
     "ename": "ValueError",
     "evalue": "cannot reshape array of size 15 into shape (3,4)",
     "output_type": "error",
     "traceback": [
      "\u001b[1;31m---------------------------------------------------------------------------\u001b[0m",
      "\u001b[1;31mValueError\u001b[0m                                Traceback (most recent call last)",
      "Cell \u001b[1;32mIn[103], line 1\u001b[0m\n\u001b[1;32m----> 1\u001b[0m example\u001b[38;5;241m.\u001b[39mreshape((\u001b[38;5;241m3\u001b[39m,\u001b[38;5;241m4\u001b[39m))\n",
      "\u001b[1;31mValueError\u001b[0m: cannot reshape array of size 15 into shape (3,4)"
     ]
    }
   ],
   "source": [
    "example.reshape((3,4))"
   ]
  },
  {
   "cell_type": "code",
   "execution_count": 105,
   "id": "4c42a7a9-67b8-40bf-b467-f0c9ffd38649",
   "metadata": {},
   "outputs": [
    {
     "data": {
      "text/plain": [
       "array([[ 1,  2,  3],\n",
       "       [ 4,  5,  6],\n",
       "       [ 7,  8,  9],\n",
       "       [10, 11, 12],\n",
       "       [13, 14, 15]])"
      ]
     },
     "execution_count": 105,
     "metadata": {},
     "output_type": "execute_result"
    }
   ],
   "source": [
    "example.reshape((5,3))"
   ]
  },
  {
   "cell_type": "code",
   "execution_count": 107,
   "id": "938f7fca-dd87-469d-ba5f-e9e820ebb205",
   "metadata": {},
   "outputs": [
    {
     "data": {
      "text/plain": [
       "array([[ 1,  2,  3,  4,  5,  6,  7,  8,  9, 10, 11, 12, 13, 14, 15]])"
      ]
     },
     "execution_count": 107,
     "metadata": {},
     "output_type": "execute_result"
    }
   ],
   "source": [
    "array.reshape(1,15)"
   ]
  },
  {
   "cell_type": "code",
   "execution_count": 109,
   "id": "cc57df75-1801-4e9e-b983-19e22709b264",
   "metadata": {},
   "outputs": [
    {
     "data": {
      "text/plain": [
       "array([[ 1],\n",
       "       [ 2],\n",
       "       [ 3],\n",
       "       [ 4],\n",
       "       [ 5],\n",
       "       [ 6],\n",
       "       [ 7],\n",
       "       [ 8],\n",
       "       [ 9],\n",
       "       [10],\n",
       "       [11],\n",
       "       [12],\n",
       "       [13],\n",
       "       [14],\n",
       "       [15]])"
      ]
     },
     "execution_count": 109,
     "metadata": {},
     "output_type": "execute_result"
    }
   ],
   "source": [
    "array.reshape(15,1)"
   ]
  },
  {
   "cell_type": "code",
   "execution_count": 111,
   "id": "77e602df-9438-4706-93e8-afb175f34a3a",
   "metadata": {},
   "outputs": [],
   "source": [
    "#35 Identifying the largest element of Numpy array using max() and argmax() function"
   ]
  },
  {
   "cell_type": "code",
   "execution_count": 113,
   "id": "6f04f98f-1001-4409-bb7c-92b139321772",
   "metadata": {},
   "outputs": [],
   "source": [
    "import numpy as np"
   ]
  },
  {
   "cell_type": "code",
   "execution_count": 115,
   "id": "4bb68ae3-8419-4276-ac63-d0504c7aa29d",
   "metadata": {},
   "outputs": [],
   "source": [
    "array=np.random.randint(0,50,10)"
   ]
  },
  {
   "cell_type": "code",
   "execution_count": 117,
   "id": "07f66d76-35ed-4c41-ae58-2f223fb436d6",
   "metadata": {},
   "outputs": [
    {
     "data": {
      "text/plain": [
       "array([35, 36, 30, 48, 40, 12, 35,  3, 13, 22])"
      ]
     },
     "execution_count": 117,
     "metadata": {},
     "output_type": "execute_result"
    }
   ],
   "source": [
    "array"
   ]
  },
  {
   "cell_type": "code",
   "execution_count": 121,
   "id": "e1421715-7eea-49e9-934b-85de950c061a",
   "metadata": {},
   "outputs": [
    {
     "data": {
      "text/plain": [
       "48"
      ]
     },
     "execution_count": 121,
     "metadata": {},
     "output_type": "execute_result"
    }
   ],
   "source": [
    "array.max()"
   ]
  },
  {
   "cell_type": "code",
   "execution_count": 123,
   "id": "a6b34ae0-6204-4294-bd5a-2b0d60ab155a",
   "metadata": {},
   "outputs": [
    {
     "data": {
      "text/plain": [
       "3"
      ]
     },
     "execution_count": 123,
     "metadata": {},
     "output_type": "execute_result"
    }
   ],
   "source": [
    "array.argmax()"
   ]
  },
  {
   "cell_type": "code",
   "execution_count": 125,
   "id": "be09a431-a6d4-4c4c-a5d7-641996ba7eed",
   "metadata": {},
   "outputs": [],
   "source": [
    "array2=array.reshape(2,5)"
   ]
  },
  {
   "cell_type": "code",
   "execution_count": 127,
   "id": "6287e3fa-55e3-4ebf-bd8b-c166e3593695",
   "metadata": {},
   "outputs": [
    {
     "data": {
      "text/plain": [
       "array([[35, 36, 30, 48, 40],\n",
       "       [12, 35,  3, 13, 22]])"
      ]
     },
     "execution_count": 127,
     "metadata": {},
     "output_type": "execute_result"
    }
   ],
   "source": [
    "array2"
   ]
  },
  {
   "cell_type": "code",
   "execution_count": 131,
   "id": "54201240-d57c-42fb-af61-a5cb83dd53c9",
   "metadata": {},
   "outputs": [
    {
     "data": {
      "text/plain": [
       "48"
      ]
     },
     "execution_count": 131,
     "metadata": {},
     "output_type": "execute_result"
    }
   ],
   "source": [
    "array2.max()"
   ]
  },
  {
   "cell_type": "code",
   "execution_count": 135,
   "id": "a62785d3-cb48-443f-a3a6-eb8702756c6b",
   "metadata": {},
   "outputs": [
    {
     "data": {
      "text/plain": [
       "array([[ 1, 18,  7, 28],\n",
       "       [48, 17, 31,  6],\n",
       "       [44,  2, 32,  9]])"
      ]
     },
     "execution_count": 135,
     "metadata": {},
     "output_type": "execute_result"
    }
   ],
   "source": [
    "array3=np.random.randint(0,50,(3,4))\n",
    "array3"
   ]
  },
  {
   "cell_type": "code",
   "execution_count": 137,
   "id": "45777211-34b8-46be-8a94-f48bd5d0d581",
   "metadata": {},
   "outputs": [
    {
     "data": {
      "text/plain": [
       "48"
      ]
     },
     "execution_count": 137,
     "metadata": {},
     "output_type": "execute_result"
    }
   ],
   "source": [
    "array3.max()"
   ]
  },
  {
   "cell_type": "code",
   "execution_count": 139,
   "id": "9fa5eeb7-9e60-48b1-bce2-31f5edff76b7",
   "metadata": {},
   "outputs": [
    {
     "data": {
      "text/plain": [
       "4"
      ]
     },
     "execution_count": 139,
     "metadata": {},
     "output_type": "execute_result"
    }
   ],
   "source": [
    "array3.argmax()"
   ]
  },
  {
   "cell_type": "code",
   "execution_count": 141,
   "id": "7e53c45b-b808-4773-979c-6a30c481f961",
   "metadata": {},
   "outputs": [],
   "source": [
    "#36 Detecting the Least element of Numpy array min() and argmin() function"
   ]
  },
  {
   "cell_type": "code",
   "execution_count": 155,
   "id": "cf5457e8-bc38-4706-8c40-730ee5edce34",
   "metadata": {},
   "outputs": [],
   "source": [
    "import numpy as np"
   ]
  },
  {
   "cell_type": "code",
   "execution_count": 157,
   "id": "0dc9de4d-9588-4035-aa1a-b50866dd6147",
   "metadata": {},
   "outputs": [
    {
     "data": {
      "text/plain": [
       "array([56, 44, 40, 60, 45, 38, 31, 58, 45, 55])"
      ]
     },
     "execution_count": 157,
     "metadata": {},
     "output_type": "execute_result"
    }
   ],
   "source": [
    "var=np.random.randint(20,70,10)\n",
    "var"
   ]
  },
  {
   "cell_type": "code",
   "execution_count": 159,
   "id": "245f2ea3-7a6f-4dd4-ad42-3b16dabe0705",
   "metadata": {},
   "outputs": [
    {
     "data": {
      "text/plain": [
       "31"
      ]
     },
     "execution_count": 159,
     "metadata": {},
     "output_type": "execute_result"
    }
   ],
   "source": [
    "var.min()"
   ]
  },
  {
   "cell_type": "code",
   "execution_count": 161,
   "id": "e3cf1cd8-49d5-48bb-bdf1-f904f19f92be",
   "metadata": {},
   "outputs": [
    {
     "data": {
      "text/plain": [
       "6"
      ]
     },
     "execution_count": 161,
     "metadata": {},
     "output_type": "execute_result"
    }
   ],
   "source": [
    "var.argmin()"
   ]
  },
  {
   "cell_type": "code",
   "execution_count": 165,
   "id": "036154dc-636e-40f9-bc9c-28ab91f4bfd9",
   "metadata": {},
   "outputs": [],
   "source": [
    "var2=np.random.randint(20,70,(2,3))"
   ]
  },
  {
   "cell_type": "code",
   "execution_count": 167,
   "id": "9e035473-7e1a-4220-b216-5cd3f2f04c98",
   "metadata": {},
   "outputs": [
    {
     "data": {
      "text/plain": [
       "array([[36, 28, 30],\n",
       "       [28, 40, 53]])"
      ]
     },
     "execution_count": 167,
     "metadata": {},
     "output_type": "execute_result"
    }
   ],
   "source": [
    "var2"
   ]
  },
  {
   "cell_type": "code",
   "execution_count": 169,
   "id": "acc60161-24ca-4e36-aa64-286f5e525d13",
   "metadata": {},
   "outputs": [
    {
     "data": {
      "text/plain": [
       "28"
      ]
     },
     "execution_count": 169,
     "metadata": {},
     "output_type": "execute_result"
    }
   ],
   "source": [
    "var2.min()"
   ]
  },
  {
   "cell_type": "code",
   "execution_count": 171,
   "id": "fc42eeae-ab4a-49b3-9cd4-d87fca6b6b28",
   "metadata": {},
   "outputs": [
    {
     "data": {
      "text/plain": [
       "1"
      ]
     },
     "execution_count": 171,
     "metadata": {},
     "output_type": "execute_result"
    }
   ],
   "source": [
    "var2.argmin()"
   ]
  },
  {
   "cell_type": "code",
   "execution_count": 2,
   "id": "1311621a-2c16-4e14-a9b1-483c6b6aa9a7",
   "metadata": {},
   "outputs": [],
   "source": [
    "#37 Concatenating NumPy array:concatenate() function"
   ]
  },
  {
   "cell_type": "code",
   "execution_count": 4,
   "id": "c0e76618-a6fb-42c5-aa59-7bb6f868b402",
   "metadata": {},
   "outputs": [],
   "source": [
    "import numpy as np"
   ]
  },
  {
   "cell_type": "code",
   "execution_count": 6,
   "id": "45327794-6dd9-407c-b2ea-059f3e65594d",
   "metadata": {},
   "outputs": [],
   "source": [
    "array1=np.array([1,2,3,4])\n",
    "array2=np.array([5,6,7,8])"
   ]
  },
  {
   "cell_type": "code",
   "execution_count": 8,
   "id": "837d6041-a01d-4a91-a352-16d0ef59030f",
   "metadata": {},
   "outputs": [
    {
     "data": {
      "text/plain": [
       "array([1, 2, 3, 4, 5, 6, 7, 8])"
      ]
     },
     "execution_count": 8,
     "metadata": {},
     "output_type": "execute_result"
    }
   ],
   "source": [
    "arrnp.concatenate([array1,array2])"
   ]
  },
  {
   "cell_type": "code",
   "execution_count": 10,
   "id": "970cbf1f-4459-40ce-aca8-14e24a42ee80",
   "metadata": {},
   "outputs": [
    {
     "data": {
      "text/plain": [
       "array([5, 6, 7, 8, 1, 2, 3, 4])"
      ]
     },
     "execution_count": 10,
     "metadata": {},
     "output_type": "execute_result"
    }
   ],
   "source": [
    "np.concatenate([array2,array1])"
   ]
  },
  {
   "cell_type": "code",
   "execution_count": 16,
   "id": "85515be6-c6bb-4992-9f94-688000981327",
   "metadata": {},
   "outputs": [],
   "source": [
    "array3=np.arange(1,7).reshape((2,3))"
   ]
  },
  {
   "cell_type": "code",
   "execution_count": 18,
   "id": "6033be8e-5530-4326-9838-bdd9deca4ca5",
   "metadata": {},
   "outputs": [
    {
     "data": {
      "text/plain": [
       "array([[1, 2, 3],\n",
       "       [4, 5, 6]])"
      ]
     },
     "execution_count": 18,
     "metadata": {},
     "output_type": "execute_result"
    }
   ],
   "source": [
    "array3"
   ]
  },
  {
   "cell_type": "code",
   "execution_count": 20,
   "id": "c4f9180f-15dc-4ecc-80cd-6773d6870b3d",
   "metadata": {},
   "outputs": [
    {
     "data": {
      "text/plain": [
       "array([[ 7,  8,  9],\n",
       "       [10, 11, 12]])"
      ]
     },
     "execution_count": 20,
     "metadata": {},
     "output_type": "execute_result"
    }
   ],
   "source": [
    "array4=np.array([[7,8,9],[10,11,12]])\n",
    "array4"
   ]
  },
  {
   "cell_type": "code",
   "execution_count": 22,
   "id": "3b92ada5-6e09-4476-81c8-52aaa88485bd",
   "metadata": {},
   "outputs": [
    {
     "data": {
      "text/plain": [
       "array([[ 1,  2,  3],\n",
       "       [ 4,  5,  6],\n",
       "       [ 7,  8,  9],\n",
       "       [10, 11, 12]])"
      ]
     },
     "execution_count": 22,
     "metadata": {},
     "output_type": "execute_result"
    }
   ],
   "source": [
    "np.concatenate([array3,array4])"
   ]
  },
  {
   "cell_type": "code",
   "execution_count": 24,
   "id": "6df817c2-abd5-4818-8c99-85f6be31b49b",
   "metadata": {},
   "outputs": [
    {
     "data": {
      "text/plain": [
       "array([[ 1,  2,  3,  7,  8,  9],\n",
       "       [ 4,  5,  6, 10, 11, 12]])"
      ]
     },
     "execution_count": 24,
     "metadata": {},
     "output_type": "execute_result"
    }
   ],
   "source": [
    "np.concatenate([array3,array4],axis=1)"
   ]
  },
  {
   "cell_type": "code",
   "execution_count": 26,
   "id": "afbf8fbc-05a3-4f26-9025-c37f3959fb9b",
   "metadata": {},
   "outputs": [
    {
     "ename": "ValueError",
     "evalue": "all the input arrays must have same number of dimensions, but the array at index 0 has 1 dimension(s) and the array at index 1 has 2 dimension(s)",
     "output_type": "error",
     "traceback": [
      "\u001b[1;31m---------------------------------------------------------------------------\u001b[0m",
      "\u001b[1;31mValueError\u001b[0m                                Traceback (most recent call last)",
      "Cell \u001b[1;32mIn[26], line 1\u001b[0m\n\u001b[1;32m----> 1\u001b[0m np\u001b[38;5;241m.\u001b[39mconcatenate([array1,array4])\n",
      "\u001b[1;31mValueError\u001b[0m: all the input arrays must have same number of dimensions, but the array at index 0 has 1 dimension(s) and the array at index 1 has 2 dimension(s)"
     ]
    }
   ],
   "source": [
    "np.concatenate([array1,array4])"
   ]
  },
  {
   "cell_type": "code",
   "execution_count": 34,
   "id": "6134fc84-43ee-45ce-9997-bd3c39ae5e7d",
   "metadata": {},
   "outputs": [
    {
     "data": {
      "text/plain": [
       "array([[ 1,  2],\n",
       "       [ 3,  4],\n",
       "       [ 5,  6],\n",
       "       [ 7,  8],\n",
       "       [ 9, 10]])"
      ]
     },
     "execution_count": 34,
     "metadata": {},
     "output_type": "execute_result"
    }
   ],
   "source": [
    "array5=np.arange(1,11).reshape(5,2)\n",
    "array5"
   ]
  },
  {
   "cell_type": "code",
   "execution_count": 36,
   "id": "73d66067-ccf2-461c-887b-e7eac98b5b0b",
   "metadata": {},
   "outputs": [
    {
     "ename": "ValueError",
     "evalue": "all the input array dimensions except for the concatenation axis must match exactly, but along dimension 1, the array at index 0 has size 3 and the array at index 1 has size 2",
     "output_type": "error",
     "traceback": [
      "\u001b[1;31m---------------------------------------------------------------------------\u001b[0m",
      "\u001b[1;31mValueError\u001b[0m                                Traceback (most recent call last)",
      "Cell \u001b[1;32mIn[36], line 1\u001b[0m\n\u001b[1;32m----> 1\u001b[0m np\u001b[38;5;241m.\u001b[39mconcatenate([array3,array5])\n",
      "\u001b[1;31mValueError\u001b[0m: all the input array dimensions except for the concatenation axis must match exactly, but along dimension 1, the array at index 0 has size 3 and the array at index 1 has size 2"
     ]
    }
   ],
   "source": [
    "np.concatenate([array3,array5])"
   ]
  },
  {
   "cell_type": "code",
   "execution_count": 38,
   "id": "b7373e6a-eb7e-4296-92c5-2e15429c76c6",
   "metadata": {},
   "outputs": [],
   "source": [
    "#38 Splittimg one dimensional numpy array :The Split"
   ]
  },
  {
   "cell_type": "code",
   "execution_count": 40,
   "id": "fd28c49b-2d20-45e0-8a08-174d1fbbfbd1",
   "metadata": {},
   "outputs": [],
   "source": [
    "import numpy as np"
   ]
  },
  {
   "cell_type": "code",
   "execution_count": 42,
   "id": "3839fd46-1f07-42ea-b179-f659f4492e4f",
   "metadata": {},
   "outputs": [],
   "source": [
    "array=np.array([1,3,5,50,50,2,4,6])"
   ]
  },
  {
   "cell_type": "code",
   "execution_count": 44,
   "id": "14020200-e1da-4f49-82c0-9addc17a8e8c",
   "metadata": {},
   "outputs": [
    {
     "data": {
      "text/plain": [
       "[array([1, 3, 5]), array([50, 50]), array([2, 4, 6])]"
      ]
     },
     "execution_count": 44,
     "metadata": {},
     "output_type": "execute_result"
    }
   ],
   "source": [
    "np.split(array,(3,5))"
   ]
  },
  {
   "cell_type": "code",
   "execution_count": 46,
   "id": "0bf58ba7-bf6c-4d12-9b2f-319cabe4ea45",
   "metadata": {},
   "outputs": [],
   "source": [
    "x,y,z=np.split(array,(3,5))"
   ]
  },
  {
   "cell_type": "code",
   "execution_count": 48,
   "id": "61ff0529-da4f-44e1-8cd0-33b70998f512",
   "metadata": {},
   "outputs": [
    {
     "data": {
      "text/plain": [
       "array([1, 3, 5])"
      ]
     },
     "execution_count": 48,
     "metadata": {},
     "output_type": "execute_result"
    }
   ],
   "source": [
    "x"
   ]
  },
  {
   "cell_type": "code",
   "execution_count": 50,
   "id": "27269c17-34bf-4e32-b888-a156428bc47b",
   "metadata": {},
   "outputs": [
    {
     "data": {
      "text/plain": [
       "array([50, 50])"
      ]
     },
     "execution_count": 50,
     "metadata": {},
     "output_type": "execute_result"
    }
   ],
   "source": [
    "y"
   ]
  },
  {
   "cell_type": "code",
   "execution_count": 52,
   "id": "6e9be2b2-6fd6-4bdd-95f2-3ae50635b4c2",
   "metadata": {},
   "outputs": [
    {
     "data": {
      "text/plain": [
       "array([2, 4, 6])"
      ]
     },
     "execution_count": 52,
     "metadata": {},
     "output_type": "execute_result"
    }
   ],
   "source": [
    "z"
   ]
  },
  {
   "cell_type": "code",
   "execution_count": 54,
   "id": "33941974-a683-4bc1-9396-2aef02bb06e4",
   "metadata": {},
   "outputs": [
    {
     "data": {
      "text/plain": [
       "[array([1, 3]), array([ 5, 50]), array([50,  2]), array([4, 6])]"
      ]
     },
     "execution_count": 54,
     "metadata": {},
     "output_type": "execute_result"
    }
   ],
   "source": [
    "np.split(array,4)"
   ]
  },
  {
   "cell_type": "code",
   "execution_count": 56,
   "id": "e80f4983-3ebc-4ebc-b4c8-c0ff8ff3c92f",
   "metadata": {},
   "outputs": [
    {
     "ename": "ValueError",
     "evalue": "array split does not result in an equal division",
     "output_type": "error",
     "traceback": [
      "\u001b[1;31m---------------------------------------------------------------------------\u001b[0m",
      "\u001b[1;31mValueError\u001b[0m                                Traceback (most recent call last)",
      "Cell \u001b[1;32mIn[56], line 1\u001b[0m\n\u001b[1;32m----> 1\u001b[0m np\u001b[38;5;241m.\u001b[39msplit(array,\u001b[38;5;241m5\u001b[39m)\n",
      "File \u001b[1;32m~\\anaconda3\\Lib\\site-packages\\numpy\\lib\\shape_base.py:864\u001b[0m, in \u001b[0;36msplit\u001b[1;34m(ary, indices_or_sections, axis)\u001b[0m\n\u001b[0;32m    862\u001b[0m     N \u001b[38;5;241m=\u001b[39m ary\u001b[38;5;241m.\u001b[39mshape[axis]\n\u001b[0;32m    863\u001b[0m     \u001b[38;5;28;01mif\u001b[39;00m N \u001b[38;5;241m%\u001b[39m sections:\n\u001b[1;32m--> 864\u001b[0m         \u001b[38;5;28;01mraise\u001b[39;00m \u001b[38;5;167;01mValueError\u001b[39;00m(\n\u001b[0;32m    865\u001b[0m             \u001b[38;5;124m'\u001b[39m\u001b[38;5;124marray split does not result in an equal division\u001b[39m\u001b[38;5;124m'\u001b[39m) \u001b[38;5;28;01mfrom\u001b[39;00m \u001b[38;5;28;01mNone\u001b[39;00m\n\u001b[0;32m    866\u001b[0m \u001b[38;5;28;01mreturn\u001b[39;00m array_split(ary, indices_or_sections, axis)\n",
      "\u001b[1;31mValueError\u001b[0m: array split does not result in an equal division"
     ]
    }
   ],
   "source": [
    "np.split(array,5)"
   ]
  },
  {
   "cell_type": "code",
   "execution_count": 58,
   "id": "65446bd0-231d-41ba-a480-a215c01f5605",
   "metadata": {},
   "outputs": [],
   "source": [
    "#39 Splitting 2D NumPy arrays using split() function"
   ]
  },
  {
   "cell_type": "code",
   "execution_count": 60,
   "id": "02ce4967-843f-4e26-bfff-f894ab9e7a4c",
   "metadata": {},
   "outputs": [],
   "source": [
    "import numpy as np"
   ]
  },
  {
   "cell_type": "code",
   "execution_count": 62,
   "id": "2d6cb09d-22f6-444e-a81a-bb1de51fdc9f",
   "metadata": {},
   "outputs": [],
   "source": [
    "array=np.arange(20).reshape(5,4)"
   ]
  },
  {
   "cell_type": "code",
   "execution_count": 64,
   "id": "f62ac40a-75c5-4559-a04d-602efc6c6a8f",
   "metadata": {},
   "outputs": [
    {
     "data": {
      "text/plain": [
       "array([[ 0,  1,  2,  3],\n",
       "       [ 4,  5,  6,  7],\n",
       "       [ 8,  9, 10, 11],\n",
       "       [12, 13, 14, 15],\n",
       "       [16, 17, 18, 19]])"
      ]
     },
     "execution_count": 64,
     "metadata": {},
     "output_type": "execute_result"
    }
   ],
   "source": [
    "array"
   ]
  },
  {
   "cell_type": "code",
   "execution_count": 66,
   "id": "1c4c1641-cb59-4fcb-9977-e11e9098bc3a",
   "metadata": {},
   "outputs": [
    {
     "data": {
      "text/plain": [
       "[array([[0, 1, 2, 3]]),\n",
       " array([[ 4,  5,  6,  7],\n",
       "        [ 8,  9, 10, 11]]),\n",
       " array([[12, 13, 14, 15],\n",
       "        [16, 17, 18, 19]])]"
      ]
     },
     "execution_count": 66,
     "metadata": {},
     "output_type": "execute_result"
    }
   ],
   "source": [
    "np.split(array,[1,3])"
   ]
  },
  {
   "cell_type": "code",
   "execution_count": 68,
   "id": "4dc3c270-c5dd-473d-8df6-27ec756cb6c2",
   "metadata": {},
   "outputs": [],
   "source": [
    "x,y,z=np.split(array,[1,3])"
   ]
  },
  {
   "cell_type": "code",
   "execution_count": 70,
   "id": "61b3c0a0-1a01-4e7d-ad03-15e1c3e760ba",
   "metadata": {},
   "outputs": [
    {
     "data": {
      "text/plain": [
       "array([[0, 1, 2, 3]])"
      ]
     },
     "execution_count": 70,
     "metadata": {},
     "output_type": "execute_result"
    }
   ],
   "source": [
    "x"
   ]
  },
  {
   "cell_type": "code",
   "execution_count": 72,
   "id": "b8b4e8da-6e9a-48d7-9c25-3b4868d64aab",
   "metadata": {},
   "outputs": [
    {
     "data": {
      "text/plain": [
       "array([[ 4,  5,  6,  7],\n",
       "       [ 8,  9, 10, 11]])"
      ]
     },
     "execution_count": 72,
     "metadata": {},
     "output_type": "execute_result"
    }
   ],
   "source": [
    "y"
   ]
  },
  {
   "cell_type": "code",
   "execution_count": 74,
   "id": "9b5e3d57-2336-4476-9541-c2f6d7772a6e",
   "metadata": {},
   "outputs": [
    {
     "data": {
      "text/plain": [
       "array([[12, 13, 14, 15],\n",
       "       [16, 17, 18, 19]])"
      ]
     },
     "execution_count": 74,
     "metadata": {},
     "output_type": "execute_result"
    }
   ],
   "source": [
    "z"
   ]
  },
  {
   "cell_type": "code",
   "execution_count": 76,
   "id": "3340caf6-b2de-441b-b653-b1ad16bd956c",
   "metadata": {},
   "outputs": [],
   "source": [
    "#to split on column basis"
   ]
  },
  {
   "cell_type": "code",
   "execution_count": 78,
   "id": "3b46fe78-ede7-46e5-9fcf-7183422f1f2b",
   "metadata": {},
   "outputs": [
    {
     "data": {
      "text/plain": [
       "[array([[ 0],\n",
       "        [ 4],\n",
       "        [ 8],\n",
       "        [12],\n",
       "        [16]]),\n",
       " array([[ 1,  2],\n",
       "        [ 5,  6],\n",
       "        [ 9, 10],\n",
       "        [13, 14],\n",
       "        [17, 18]]),\n",
       " array([[ 3],\n",
       "        [ 7],\n",
       "        [11],\n",
       "        [15],\n",
       "        [19]])]"
      ]
     },
     "execution_count": 78,
     "metadata": {},
     "output_type": "execute_result"
    }
   ],
   "source": [
    "np.split(array,[1,3],axis=1)"
   ]
  },
  {
   "cell_type": "code",
   "execution_count": 80,
   "id": "45969743-a093-4ddb-81cc-2dc5afc06185",
   "metadata": {},
   "outputs": [],
   "source": [
    "#hsplit() function"
   ]
  },
  {
   "cell_type": "code",
   "execution_count": 82,
   "id": "133d5fd8-03a3-4a74-94db-7aaeda95c853",
   "metadata": {},
   "outputs": [
    {
     "data": {
      "text/plain": [
       "array([[ 0,  1,  2,  3],\n",
       "       [ 4,  5,  6,  7],\n",
       "       [ 8,  9, 10, 11],\n",
       "       [12, 13, 14, 15],\n",
       "       [16, 17, 18, 19]])"
      ]
     },
     "execution_count": 82,
     "metadata": {},
     "output_type": "execute_result"
    }
   ],
   "source": [
    "array"
   ]
  },
  {
   "cell_type": "code",
   "execution_count": 84,
   "id": "a4c91d11-9f84-4d34-bfbf-3ccc119182bc",
   "metadata": {},
   "outputs": [
    {
     "data": {
      "text/plain": [
       "[array([[ 0],\n",
       "        [ 4],\n",
       "        [ 8],\n",
       "        [12],\n",
       "        [16]]),\n",
       " array([[ 1],\n",
       "        [ 5],\n",
       "        [ 9],\n",
       "        [13],\n",
       "        [17]]),\n",
       " array([[ 2],\n",
       "        [ 6],\n",
       "        [10],\n",
       "        [14],\n",
       "        [18]]),\n",
       " array([[ 3],\n",
       "        [ 7],\n",
       "        [11],\n",
       "        [15],\n",
       "        [19]])]"
      ]
     },
     "execution_count": 84,
     "metadata": {},
     "output_type": "execute_result"
    }
   ],
   "source": [
    "np.hsplit(array,4)"
   ]
  },
  {
   "cell_type": "code",
   "execution_count": 86,
   "id": "551d59a9-5855-4bc8-b43a-1d0b69842f8e",
   "metadata": {},
   "outputs": [
    {
     "data": {
      "text/plain": [
       "[array([[ 0],\n",
       "        [ 4],\n",
       "        [ 8],\n",
       "        [12],\n",
       "        [16]]),\n",
       " array([[ 1,  2],\n",
       "        [ 5,  6],\n",
       "        [ 9, 10],\n",
       "        [13, 14],\n",
       "        [17, 18]]),\n",
       " array([[ 3],\n",
       "        [ 7],\n",
       "        [11],\n",
       "        [15],\n",
       "        [19]])]"
      ]
     },
     "execution_count": 86,
     "metadata": {},
     "output_type": "execute_result"
    }
   ],
   "source": [
    "np.hsplit(array,[1,3])"
   ]
  },
  {
   "cell_type": "code",
   "execution_count": 88,
   "id": "fe19d9ca-8bf1-4918-9813-08f24d8ac6e5",
   "metadata": {},
   "outputs": [],
   "source": [
    "#vsplit() function"
   ]
  },
  {
   "cell_type": "code",
   "execution_count": 90,
   "id": "bbe10e36-37cc-4afd-8a30-373016aa6f27",
   "metadata": {},
   "outputs": [
    {
     "data": {
      "text/plain": [
       "array([[ 0,  1,  2,  3],\n",
       "       [ 4,  5,  6,  7],\n",
       "       [ 8,  9, 10, 11],\n",
       "       [12, 13, 14, 15],\n",
       "       [16, 17, 18, 19]])"
      ]
     },
     "execution_count": 90,
     "metadata": {},
     "output_type": "execute_result"
    }
   ],
   "source": [
    "array"
   ]
  },
  {
   "cell_type": "code",
   "execution_count": 92,
   "id": "157d4e14-962c-4a72-9e3f-a0ba8d18d824",
   "metadata": {},
   "outputs": [
    {
     "data": {
      "text/plain": [
       "[array([[0, 1, 2, 3]]),\n",
       " array([[4, 5, 6, 7]]),\n",
       " array([[ 8,  9, 10, 11]]),\n",
       " array([[12, 13, 14, 15]]),\n",
       " array([[16, 17, 18, 19]])]"
      ]
     },
     "execution_count": 92,
     "metadata": {},
     "output_type": "execute_result"
    }
   ],
   "source": [
    "np.vsplit(array,5)"
   ]
  },
  {
   "cell_type": "code",
   "execution_count": 94,
   "id": "a1b08e47-a5c8-431e-81c3-5cacc26bd6b6",
   "metadata": {},
   "outputs": [
    {
     "data": {
      "text/plain": [
       "[array([[0, 1, 2, 3],\n",
       "        [4, 5, 6, 7]]),\n",
       " array([[ 8,  9, 10, 11],\n",
       "        [12, 13, 14, 15]]),\n",
       " array([[16, 17, 18, 19]])]"
      ]
     },
     "execution_count": 94,
     "metadata": {},
     "output_type": "execute_result"
    }
   ],
   "source": [
    "np.vsplit(array,[2,4])"
   ]
  },
  {
   "cell_type": "code",
   "execution_count": 96,
   "id": "7f581d17-65a3-4bb3-bf3c-8ae30cf2f6ff",
   "metadata": {},
   "outputs": [],
   "source": [
    "#40 Sorting numpy arrays:sort() function"
   ]
  },
  {
   "cell_type": "code",
   "execution_count": 98,
   "id": "3105646b-0666-4bc3-b69d-18dad84d8b49",
   "metadata": {},
   "outputs": [],
   "source": [
    "import numpy as np"
   ]
  },
  {
   "cell_type": "code",
   "execution_count": 100,
   "id": "90edf35f-6f2e-4f3b-b221-b2c9987989bb",
   "metadata": {},
   "outputs": [],
   "source": [
    "variable=np.array([3,5,1,8,6,2,9])"
   ]
  },
  {
   "cell_type": "code",
   "execution_count": 102,
   "id": "44e25970-be10-4f53-9fd4-289b7b9ee508",
   "metadata": {},
   "outputs": [
    {
     "data": {
      "text/plain": [
       "array([3, 5, 1, 8, 6, 2, 9])"
      ]
     },
     "execution_count": 102,
     "metadata": {},
     "output_type": "execute_result"
    }
   ],
   "source": [
    "variable"
   ]
  },
  {
   "cell_type": "code",
   "execution_count": 104,
   "id": "e01cf4b7-0150-422d-928b-6d3124bbcbf0",
   "metadata": {},
   "outputs": [
    {
     "data": {
      "text/plain": [
       "array([1, 2, 3, 5, 6, 8, 9])"
      ]
     },
     "execution_count": 104,
     "metadata": {},
     "output_type": "execute_result"
    }
   ],
   "source": [
    "np.sort(variable)"
   ]
  },
  {
   "cell_type": "code",
   "execution_count": 106,
   "id": "b684eb83-3f7f-4693-8d63-5547be3b3362",
   "metadata": {},
   "outputs": [
    {
     "data": {
      "text/plain": [
       "array([3, 5, 1, 8, 6, 2, 9])"
      ]
     },
     "execution_count": 106,
     "metadata": {},
     "output_type": "execute_result"
    }
   ],
   "source": [
    "variable"
   ]
  },
  {
   "cell_type": "code",
   "execution_count": 108,
   "id": "09331b22-6130-4d8a-87a2-21395a734ed6",
   "metadata": {},
   "outputs": [
    {
     "data": {
      "text/plain": [
       "array([1, 2, 3, 5, 6, 8, 9])"
      ]
     },
     "execution_count": 108,
     "metadata": {},
     "output_type": "execute_result"
    }
   ],
   "source": [
    "new_variable=np.sort(variable)\n",
    "new_variable"
   ]
  },
  {
   "cell_type": "code",
   "execution_count": 110,
   "id": "3f97583f-2920-45e0-805b-92746aded8cd",
   "metadata": {},
   "outputs": [],
   "source": [
    "#sorting in 2D arrays"
   ]
  },
  {
   "cell_type": "code",
   "execution_count": 112,
   "id": "5026ffee-6314-4f3a-9686-da8852bb0d68",
   "metadata": {},
   "outputs": [],
   "source": [
    "var=np.random.normal(30,10,[4,4])"
   ]
  },
  {
   "cell_type": "code",
   "execution_count": 114,
   "id": "d556aad9-6aed-44ae-af3e-32bc6a4149e7",
   "metadata": {},
   "outputs": [
    {
     "data": {
      "text/plain": [
       "array([[46.62801498, 60.67725938, 33.39322646, 17.43606324],\n",
       "       [41.08988186,  7.27738787, 37.12500653, 26.24009893],\n",
       "       [22.84667129, 22.30947414, 33.38345519, 24.22040323],\n",
       "       [26.32269803, 31.44562206, 29.74520764, 23.44978401]])"
      ]
     },
     "execution_count": 114,
     "metadata": {},
     "output_type": "execute_result"
    }
   ],
   "source": [
    "var"
   ]
  },
  {
   "cell_type": "code",
   "execution_count": 116,
   "id": "545bac29-ac69-476e-8c4b-3d1de9518a61",
   "metadata": {},
   "outputs": [
    {
     "data": {
      "text/plain": [
       "array([[22.84667129,  7.27738787, 29.74520764, 17.43606324],\n",
       "       [26.32269803, 22.30947414, 33.38345519, 23.44978401],\n",
       "       [41.08988186, 31.44562206, 33.39322646, 24.22040323],\n",
       "       [46.62801498, 60.67725938, 37.12500653, 26.24009893]])"
      ]
     },
     "execution_count": 116,
     "metadata": {},
     "output_type": "execute_result"
    }
   ],
   "source": [
    "np.sort(var,axis=0)"
   ]
  },
  {
   "cell_type": "code",
   "execution_count": 118,
   "id": "8142e6dd-893b-4af6-a5de-a4f5a0f3c91f",
   "metadata": {},
   "outputs": [
    {
     "data": {
      "text/plain": [
       "array([[17.43606324, 33.39322646, 46.62801498, 60.67725938],\n",
       "       [ 7.27738787, 26.24009893, 37.12500653, 41.08988186],\n",
       "       [22.30947414, 22.84667129, 24.22040323, 33.38345519],\n",
       "       [23.44978401, 26.32269803, 29.74520764, 31.44562206]])"
      ]
     },
     "execution_count": 118,
     "metadata": {},
     "output_type": "execute_result"
    }
   ],
   "source": [
    "np.sort(var,axis=1)"
   ]
  },
  {
   "cell_type": "code",
   "execution_count": 120,
   "id": "c802848e-9d98-48d0-bae4-d1e1e6112d71",
   "metadata": {},
   "outputs": [],
   "source": [
    "#41 Indexing NumPy array"
   ]
  },
  {
   "cell_type": "code",
   "execution_count": 122,
   "id": "a36c5470-601a-4505-94ea-5c495adbf489",
   "metadata": {},
   "outputs": [],
   "source": [
    "import numpy as np"
   ]
  },
  {
   "cell_type": "code",
   "execution_count": 124,
   "id": "4fd1f8bd-572d-4499-a882-da8327f5aa57",
   "metadata": {},
   "outputs": [],
   "source": [
    "array=np.arange(0,11)"
   ]
  },
  {
   "cell_type": "code",
   "execution_count": 126,
   "id": "8146c396-df6c-4f69-9b87-cc223c088c48",
   "metadata": {},
   "outputs": [
    {
     "data": {
      "text/plain": [
       "array([ 0,  1,  2,  3,  4,  5,  6,  7,  8,  9, 10])"
      ]
     },
     "execution_count": 126,
     "metadata": {},
     "output_type": "execute_result"
    }
   ],
   "source": [
    "array"
   ]
  },
  {
   "cell_type": "code",
   "execution_count": 128,
   "id": "7f45ce69-ca92-4018-bf0b-d7dc7f00171d",
   "metadata": {},
   "outputs": [
    {
     "data": {
      "text/plain": [
       "4"
      ]
     },
     "execution_count": 128,
     "metadata": {},
     "output_type": "execute_result"
    }
   ],
   "source": [
    "array[4]"
   ]
  },
  {
   "cell_type": "code",
   "execution_count": 130,
   "id": "91f80754-7b99-4f05-a220-00f41d2bd309",
   "metadata": {},
   "outputs": [
    {
     "data": {
      "text/plain": [
       "9"
      ]
     },
     "execution_count": 130,
     "metadata": {},
     "output_type": "execute_result"
    }
   ],
   "source": [
    "array[9]"
   ]
  },
  {
   "cell_type": "code",
   "execution_count": 132,
   "id": "9ffa57d5-f173-4525-acca-ca55fa2b28b8",
   "metadata": {},
   "outputs": [
    {
     "data": {
      "text/plain": [
       "9"
      ]
     },
     "execution_count": 132,
     "metadata": {},
     "output_type": "execute_result"
    }
   ],
   "source": [
    "array[-2]"
   ]
  },
  {
   "cell_type": "code",
   "execution_count": 136,
   "id": "f15c6180-a191-4dbe-bdfa-87d1ab950bf4",
   "metadata": {},
   "outputs": [
    {
     "data": {
      "text/plain": [
       "10"
      ]
     },
     "execution_count": 136,
     "metadata": {},
     "output_type": "execute_result"
    }
   ],
   "source": [
    "array[-1]"
   ]
  },
  {
   "cell_type": "code",
   "execution_count": 142,
   "id": "be0df2f4-f392-4e02-90a4-167a645319ca",
   "metadata": {},
   "outputs": [
    {
     "data": {
      "text/plain": [
       "array([[40.03076398, 26.94969014, 42.69065158],\n",
       "       [24.66135777, 15.09210202, 27.28194021],\n",
       "       [29.8776427 , 46.15140862, 24.85922242]])"
      ]
     },
     "execution_count": 142,
     "metadata": {},
     "output_type": "execute_result"
    }
   ],
   "source": [
    "var=np.random.normal(30,10,[3,3])\n",
    "var"
   ]
  },
  {
   "cell_type": "code",
   "execution_count": 144,
   "id": "4d7811fb-ad0d-4b18-bdb6-91b095105226",
   "metadata": {},
   "outputs": [
    {
     "data": {
      "text/plain": [
       "40.03076397816841"
      ]
     },
     "execution_count": 144,
     "metadata": {},
     "output_type": "execute_result"
    }
   ],
   "source": [
    "var[0,0]"
   ]
  },
  {
   "cell_type": "code",
   "execution_count": 146,
   "id": "b3d60bfd-cb56-469d-8321-70a440a82310",
   "metadata": {},
   "outputs": [
    {
     "data": {
      "text/plain": [
       "46.15140862455701"
      ]
     },
     "execution_count": 146,
     "metadata": {},
     "output_type": "execute_result"
    }
   ],
   "source": [
    "var[2,1]"
   ]
  },
  {
   "cell_type": "code",
   "execution_count": 154,
   "id": "2d4091ac-b806-46b7-96b8-40025700e0a5",
   "metadata": {},
   "outputs": [
    {
     "data": {
      "text/plain": [
       "29.877642704388713"
      ]
     },
     "execution_count": 154,
     "metadata": {},
     "output_type": "execute_result"
    }
   ],
   "source": [
    "var[-1,-3]"
   ]
  },
  {
   "cell_type": "code",
   "execution_count": 161,
   "id": "c546a5f3-37ec-49be-a5cc-a6e9c36c45da",
   "metadata": {},
   "outputs": [],
   "source": [
    "var2=np.array(var,dtype=\"int\")"
   ]
  },
  {
   "cell_type": "code",
   "execution_count": 164,
   "id": "904ef0a0-9da6-43d8-94dc-e626bf4e2fb5",
   "metadata": {},
   "outputs": [
    {
     "data": {
      "text/plain": [
       "array([[40, 26, 42],\n",
       "       [24, 15, 27],\n",
       "       [29, 46, 24]])"
      ]
     },
     "execution_count": 164,
     "metadata": {},
     "output_type": "execute_result"
    }
   ],
   "source": [
    "var2"
   ]
  },
  {
   "cell_type": "code",
   "execution_count": 166,
   "id": "c25e128c-692c-4b3c-b39e-a2432362b6f2",
   "metadata": {},
   "outputs": [],
   "source": [
    "#42 Slicing 1D Numpy arrays"
   ]
  },
  {
   "cell_type": "code",
   "execution_count": 168,
   "id": "ae8118a5-1576-4016-b6cd-1775c49d6cbf",
   "metadata": {},
   "outputs": [],
   "source": [
    "import numpy as np"
   ]
  },
  {
   "cell_type": "code",
   "execution_count": 172,
   "id": "f5fb0b4d-2acc-4664-b188-2bb42fc4e9e3",
   "metadata": {},
   "outputs": [
    {
     "data": {
      "text/plain": [
       "array([10, 11, 12, 13, 14, 15, 16, 17, 18, 19])"
      ]
     },
     "execution_count": 172,
     "metadata": {},
     "output_type": "execute_result"
    }
   ],
   "source": [
    "example=np.arange(10,20)\n",
    "example"
   ]
  },
  {
   "cell_type": "code",
   "execution_count": 174,
   "id": "20a10b91-4074-4fd7-b5b4-d6dad244bee8",
   "metadata": {},
   "outputs": [
    {
     "data": {
      "text/plain": [
       "array([12, 13, 14, 15])"
      ]
     },
     "execution_count": 174,
     "metadata": {},
     "output_type": "execute_result"
    }
   ],
   "source": [
    "#to slice the number from 12 to 16\n",
    "example[2:6]"
   ]
  },
  {
   "cell_type": "code",
   "execution_count": 176,
   "id": "52762db8-9e43-46a0-9edb-bdd63a55f58e",
   "metadata": {},
   "outputs": [
    {
     "data": {
      "text/plain": [
       "array([13, 15, 17, 19])"
      ]
     },
     "execution_count": 176,
     "metadata": {},
     "output_type": "execute_result"
    }
   ],
   "source": [
    "example[3::2]"
   ]
  },
  {
   "cell_type": "code",
   "execution_count": 178,
   "id": "07ecb125-167e-46d7-935a-b80debecd8d7",
   "metadata": {},
   "outputs": [
    {
     "data": {
      "text/plain": [
       "array([10, 13, 16])"
      ]
     },
     "execution_count": 178,
     "metadata": {},
     "output_type": "execute_result"
    }
   ],
   "source": [
    "example[:7:3]"
   ]
  },
  {
   "cell_type": "code",
   "execution_count": 180,
   "id": "03c60ae0-91cb-46b7-aa78-76d331694c5e",
   "metadata": {},
   "outputs": [],
   "source": [
    "#43 Slicing 2D NumPy arrays"
   ]
  },
  {
   "cell_type": "code",
   "execution_count": 182,
   "id": "37d53bc7-edef-4c71-ac9c-e89e8657f911",
   "metadata": {},
   "outputs": [],
   "source": [
    "import numpy as np"
   ]
  },
  {
   "cell_type": "code",
   "execution_count": 184,
   "id": "7b3cf2c9-de06-4e3d-aa7b-892edc8e31a7",
   "metadata": {},
   "outputs": [
    {
     "data": {
      "text/plain": [
       "array([[ 0,  1,  2,  3,  4],\n",
       "       [ 5,  6,  7,  8,  9],\n",
       "       [10, 11, 12, 13, 14],\n",
       "       [15, 16, 17, 18, 19],\n",
       "       [20, 21, 22, 23, 24],\n",
       "       [25, 26, 27, 28, 29]])"
      ]
     },
     "execution_count": 184,
     "metadata": {},
     "output_type": "execute_result"
    }
   ],
   "source": [
    "array=np.arange(30).reshape(6,5)\n",
    "array"
   ]
  },
  {
   "cell_type": "code",
   "execution_count": 186,
   "id": "590d8df3-4eb0-4fe5-9578-f467d4b9856e",
   "metadata": {},
   "outputs": [
    {
     "data": {
      "text/plain": [
       "array([10, 11, 12, 13, 14])"
      ]
     },
     "execution_count": 186,
     "metadata": {},
     "output_type": "execute_result"
    }
   ],
   "source": [
    "array[2,:] #return row elements till end"
   ]
  },
  {
   "cell_type": "code",
   "execution_count": 192,
   "id": "5abc8509-8444-4b40-9fda-5c240a2a0ee2",
   "metadata": {},
   "outputs": [
    {
     "data": {
      "text/plain": [
       "array([10, 11, 12])"
      ]
     },
     "execution_count": 192,
     "metadata": {},
     "output_type": "execute_result"
    }
   ],
   "source": [
    "array[2,:3]"
   ]
  },
  {
   "cell_type": "code",
   "execution_count": 194,
   "id": "47d2e648-fdeb-45b4-94c1-cbca68c490e2",
   "metadata": {},
   "outputs": [
    {
     "data": {
      "text/plain": [
       "13"
      ]
     },
     "execution_count": 194,
     "metadata": {},
     "output_type": "execute_result"
    }
   ],
   "source": [
    "array[2,3]"
   ]
  },
  {
   "cell_type": "code",
   "execution_count": 202,
   "id": "fb883de1-0547-494c-a7ff-456903df8978",
   "metadata": {},
   "outputs": [
    {
     "data": {
      "text/plain": [
       "array([10, 11, 12, 13, 14])"
      ]
     },
     "execution_count": 202,
     "metadata": {},
     "output_type": "execute_result"
    }
   ],
   "source": [
    "array[2]"
   ]
  },
  {
   "cell_type": "code",
   "execution_count": 204,
   "id": "23e579cf-bfd7-4b20-ac22-2196b378cb3d",
   "metadata": {},
   "outputs": [
    {
     "data": {
      "text/plain": [
       "array([0, 1, 2, 3, 4])"
      ]
     },
     "execution_count": 204,
     "metadata": {},
     "output_type": "execute_result"
    }
   ],
   "source": [
    "array[0]"
   ]
  },
  {
   "cell_type": "code",
   "execution_count": 212,
   "id": "ca9e06b1-2671-4592-8aa0-1a7a0adaf8c8",
   "metadata": {},
   "outputs": [
    {
     "data": {
      "text/plain": [
       "array([ 2,  7, 12, 17, 22, 27])"
      ]
     },
     "execution_count": 212,
     "metadata": {},
     "output_type": "execute_result"
    }
   ],
   "source": [
    "#to select column\n",
    "array[:,2]"
   ]
  },
  {
   "cell_type": "code",
   "execution_count": 214,
   "id": "ead5a967-2382-4e59-883b-cb2b93fcf248",
   "metadata": {},
   "outputs": [
    {
     "data": {
      "text/plain": [
       "array([ 7, 12, 17, 22, 27])"
      ]
     },
     "execution_count": 214,
     "metadata": {},
     "output_type": "execute_result"
    }
   ],
   "source": [
    "array[1:,2]"
   ]
  },
  {
   "cell_type": "code",
   "execution_count": 216,
   "id": "3920a934-ce81-47ca-92ba-a38c1a5b6e37",
   "metadata": {},
   "outputs": [
    {
     "data": {
      "text/plain": [
       "array([ 0,  5, 10, 15, 20, 25])"
      ]
     },
     "execution_count": 216,
     "metadata": {},
     "output_type": "execute_result"
    }
   ],
   "source": [
    "array[:,0]"
   ]
  },
  {
   "cell_type": "code",
   "execution_count": 220,
   "id": "a6ef89fb-f359-422d-adf7-80563177635a",
   "metadata": {},
   "outputs": [
    {
     "data": {
      "text/plain": [
       "array([[ 0,  1,  2,  3,  4],\n",
       "       [ 5,  6,  7,  8,  9],\n",
       "       [10, 11, 12, 13, 14],\n",
       "       [15, 16, 17, 18, 19],\n",
       "       [20, 21, 22, 23, 24],\n",
       "       [25, 26, 27, 28, 29]])"
      ]
     },
     "execution_count": 220,
     "metadata": {},
     "output_type": "execute_result"
    }
   ],
   "source": [
    "#to slice both rows and columns\n",
    "array"
   ]
  },
  {
   "cell_type": "code",
   "execution_count": 232,
   "id": "3c67a6fe-a747-41dd-bc9b-b60062ca9097",
   "metadata": {},
   "outputs": [
    {
     "data": {
      "text/plain": [
       "array([[ 5,  6,  7,  8,  9],\n",
       "       [10, 11, 12, 13, 14],\n",
       "       [15, 16, 17, 18, 19]])"
      ]
     },
     "execution_count": 232,
     "metadata": {},
     "output_type": "execute_result"
    }
   ],
   "source": [
    "array[1:4]"
   ]
  },
  {
   "cell_type": "code",
   "execution_count": 228,
   "id": "c7bc1fca-8e67-49ad-8ebf-53764c487af4",
   "metadata": {},
   "outputs": [
    {
     "data": {
      "text/plain": [
       "array([[ 0,  1,  2,  3,  4],\n",
       "       [ 5,  6,  7,  8,  9],\n",
       "       [10, 11, 12, 13, 14]])"
      ]
     },
     "execution_count": 228,
     "metadata": {},
     "output_type": "execute_result"
    }
   ],
   "source": [
    "array[0:3]"
   ]
  },
  {
   "cell_type": "code",
   "execution_count": 238,
   "id": "fddc264d-1d16-45f2-a78d-2136feca791c",
   "metadata": {},
   "outputs": [
    {
     "data": {
      "text/plain": [
       "array([[ 5,  6,  7],\n",
       "       [10, 11, 12],\n",
       "       [15, 16, 17]])"
      ]
     },
     "execution_count": 238,
     "metadata": {},
     "output_type": "execute_result"
    }
   ],
   "source": [
    "array[1:4,0:3]"
   ]
  },
  {
   "cell_type": "code",
   "execution_count": 242,
   "id": "67955ecb-6c94-4aaa-80d8-930ccb9287da",
   "metadata": {},
   "outputs": [
    {
     "data": {
      "text/plain": [
       "array([ 8, 13, 18])"
      ]
     },
     "execution_count": 242,
     "metadata": {},
     "output_type": "execute_result"
    }
   ],
   "source": [
    "array[1:4,3]"
   ]
  },
  {
   "cell_type": "code",
   "execution_count": 244,
   "id": "b4543cc9-7750-43d4-a158-512a53646d17",
   "metadata": {},
   "outputs": [
    {
     "data": {
      "text/plain": [
       "array([[ 0,  2,  4],\n",
       "       [10, 12, 14],\n",
       "       [20, 22, 24]])"
      ]
     },
     "execution_count": 244,
     "metadata": {},
     "output_type": "execute_result"
    }
   ],
   "source": [
    "array[0::2,0::2]"
   ]
  },
  {
   "cell_type": "code",
   "execution_count": 246,
   "id": "7a4e3015-ed2d-450f-a44a-e87d7a6df350",
   "metadata": {},
   "outputs": [],
   "source": [
    "#44 Assigning value to One-Dimensional array"
   ]
  },
  {
   "cell_type": "code",
   "execution_count": 248,
   "id": "a229e472-6e19-4b13-bf10-b3ce65d5933f",
   "metadata": {},
   "outputs": [],
   "source": [
    "import numpy as np"
   ]
  },
  {
   "cell_type": "code",
   "execution_count": 256,
   "id": "44dc2f6e-d015-4db0-8ef8-e76288a93650",
   "metadata": {},
   "outputs": [
    {
     "data": {
      "text/plain": [
       "array([0, 1, 2, 3, 7, 5, 6, 9, 8, 9])"
      ]
     },
     "execution_count": 256,
     "metadata": {},
     "output_type": "execute_result"
    }
   ],
   "source": [
    "variable=np.array([0,1,2,3,7,5,6,9,8,9])\n",
    "variable"
   ]
  },
  {
   "cell_type": "code",
   "execution_count": 258,
   "id": "2b0d686f-0c61-4380-8f06-df102799253f",
   "metadata": {},
   "outputs": [],
   "source": [
    "variable[4]=4\n",
    "variable[7]=7"
   ]
  },
  {
   "cell_type": "code",
   "execution_count": 260,
   "id": "d6dfef04-49ec-491f-bc36-ca935daf75b3",
   "metadata": {},
   "outputs": [
    {
     "data": {
      "text/plain": [
       "array([0, 1, 2, 3, 4, 5, 6, 7, 8, 9])"
      ]
     },
     "execution_count": 260,
     "metadata": {},
     "output_type": "execute_result"
    }
   ],
   "source": [
    "variable"
   ]
  },
  {
   "cell_type": "code",
   "execution_count": 262,
   "id": "3b69f516-d6cf-48e7-aa69-e110faf3d2ec",
   "metadata": {},
   "outputs": [
    {
     "data": {
      "text/plain": [
       "array([10, 10, 10, 10, 10,  5,  6,  7,  8,  9])"
      ]
     },
     "execution_count": 262,
     "metadata": {},
     "output_type": "execute_result"
    }
   ],
   "source": [
    "#to assign values by slicing\n",
    "variable[0:5]=10\n",
    "variable"
   ]
  },
  {
   "cell_type": "code",
   "execution_count": 264,
   "id": "66cc16a8-5e2e-4103-b78f-f2bcf9dbf38b",
   "metadata": {},
   "outputs": [
    {
     "data": {
      "text/plain": [
       "array([5, 6, 7, 8, 9])"
      ]
     },
     "execution_count": 264,
     "metadata": {},
     "output_type": "execute_result"
    }
   ],
   "source": [
    "variable[5:]"
   ]
  },
  {
   "cell_type": "code",
   "execution_count": 266,
   "id": "075168b8-1f02-4709-961a-de492ddb8240",
   "metadata": {},
   "outputs": [],
   "source": [
    "variable[5:]=20,30,40,50,60"
   ]
  },
  {
   "cell_type": "code",
   "execution_count": 268,
   "id": "64aff86f-f9a0-4720-ba94-4b5685f7dcb0",
   "metadata": {},
   "outputs": [
    {
     "data": {
      "text/plain": [
       "array([10, 10, 10, 10, 10, 20, 30, 40, 50, 60])"
      ]
     },
     "execution_count": 268,
     "metadata": {},
     "output_type": "execute_result"
    }
   ],
   "source": [
    "variable"
   ]
  },
  {
   "cell_type": "code",
   "execution_count": 270,
   "id": "38562817-be09-4d84-882b-dc1a124e1d8d",
   "metadata": {},
   "outputs": [],
   "source": [
    "#45 Assigning value to Two-Dimensional array"
   ]
  },
  {
   "cell_type": "code",
   "execution_count": 272,
   "id": "52d81bd2-fe8a-43f0-aa27-18e910c736f8",
   "metadata": {},
   "outputs": [],
   "source": [
    "import numpy as np"
   ]
  },
  {
   "cell_type": "code",
   "execution_count": 335,
   "id": "0f9acd0a-95dd-4c1f-8e6a-8dad61a07327",
   "metadata": {},
   "outputs": [],
   "source": [
    "example=np.array([[10,20,30],[40,50,60],[70,80,90]])"
   ]
  },
  {
   "cell_type": "code",
   "execution_count": 337,
   "id": "5ab8df9b-a4ed-4b1b-916f-be066aed792b",
   "metadata": {},
   "outputs": [
    {
     "data": {
      "text/plain": [
       "array([[10, 20, 30],\n",
       "       [40, 50, 60],\n",
       "       [70, 80, 90]])"
      ]
     },
     "execution_count": 337,
     "metadata": {},
     "output_type": "execute_result"
    }
   ],
   "source": [
    "example"
   ]
  },
  {
   "cell_type": "code",
   "execution_count": 339,
   "id": "8a05bf18-4a1f-436d-8e6f-6aabb25f6fc6",
   "metadata": {},
   "outputs": [
    {
     "data": {
      "text/plain": [
       "array([[ 10,  20,  30],\n",
       "       [ 40, 100,  60],\n",
       "       [ 70,  80,  90]])"
      ]
     },
     "execution_count": 339,
     "metadata": {},
     "output_type": "execute_result"
    }
   ],
   "source": [
    "#to assign 100 instead of 50\n",
    "example[1,1]=100\n",
    "example"
   ]
  },
  {
   "cell_type": "code",
   "execution_count": 341,
   "id": "5682a346-8d46-47ad-9f80-e1fa3d8d801f",
   "metadata": {},
   "outputs": [
    {
     "data": {
      "text/plain": [
       "array([[ 10,  20,  30],\n",
       "       [100, 100,  60],\n",
       "       [ 70,  80,  90]])"
      ]
     },
     "execution_count": 341,
     "metadata": {},
     "output_type": "execute_result"
    }
   ],
   "source": [
    "example[1,0]=100.5\n",
    "example"
   ]
  },
  {
   "cell_type": "code",
   "execution_count": 347,
   "id": "623880d7-ecee-4a7c-8eed-669aecf9edd2",
   "metadata": {},
   "outputs": [
    {
     "data": {
      "text/plain": [
       "array([[ 10,  20,  30],\n",
       "       [100, 100,  60]])"
      ]
     },
     "execution_count": 347,
     "metadata": {},
     "output_type": "execute_result"
    }
   ],
   "source": [
    "example[0:2]"
   ]
  },
  {
   "cell_type": "code",
   "execution_count": 349,
   "id": "b6532314-5ce5-492a-ab1e-202ca32b0c25",
   "metadata": {},
   "outputs": [
    {
     "data": {
      "text/plain": [
       "array([30, 60, 90])"
      ]
     },
     "execution_count": 349,
     "metadata": {},
     "output_type": "execute_result"
    }
   ],
   "source": [
    "example[0:,2]"
   ]
  },
  {
   "cell_type": "code",
   "execution_count": 351,
   "id": "dbf4eb39-fde7-4226-8db0-2fe9795ae85b",
   "metadata": {},
   "outputs": [
    {
     "data": {
      "text/plain": [
       "array([30, 60, 90])"
      ]
     },
     "execution_count": 351,
     "metadata": {},
     "output_type": "execute_result"
    }
   ],
   "source": [
    "example[:,2]"
   ]
  },
  {
   "cell_type": "code",
   "execution_count": 353,
   "id": "51c0ebc4-7751-4207-9bee-b21ba1133dfb",
   "metadata": {},
   "outputs": [
    {
     "data": {
      "text/plain": [
       "array([[ 10,  20,  10],\n",
       "       [100, 100,  10],\n",
       "       [ 70,  80,  10]])"
      ]
     },
     "execution_count": 353,
     "metadata": {},
     "output_type": "execute_result"
    }
   ],
   "source": [
    "example[:,2]=10\n",
    "example"
   ]
  },
  {
   "cell_type": "code",
   "execution_count": 355,
   "id": "01df1132-ec45-48bf-aa98-c56f45788611",
   "metadata": {},
   "outputs": [
    {
     "data": {
      "text/plain": [
       "array([[10, 20, 10],\n",
       "       [70, 80, 10]])"
      ]
     },
     "execution_count": 355,
     "metadata": {},
     "output_type": "execute_result"
    }
   ],
   "source": [
    "example[0::2]"
   ]
  },
  {
   "cell_type": "code",
   "execution_count": 357,
   "id": "89dc76e9-ee42-4147-8dfb-caedcec80f8d",
   "metadata": {},
   "outputs": [
    {
     "data": {
      "text/plain": [
       "array([[ 10,  20,  10],\n",
       "       [100, 100,  10]])"
      ]
     },
     "execution_count": 357,
     "metadata": {},
     "output_type": "execute_result"
    }
   ],
   "source": [
    "example[0:2]"
   ]
  },
  {
   "cell_type": "code",
   "execution_count": 359,
   "id": "ba9609f2-f81c-432d-9542-ee9a7195c5c7",
   "metadata": {},
   "outputs": [
    {
     "data": {
      "text/plain": [
       "array([[10, 20],\n",
       "       [70, 80]])"
      ]
     },
     "execution_count": 359,
     "metadata": {},
     "output_type": "execute_result"
    }
   ],
   "source": [
    "example[0::2,0:2]"
   ]
  },
  {
   "cell_type": "code",
   "execution_count": 361,
   "id": "4cf467e2-ca58-4399-bf5c-ac668743e548",
   "metadata": {},
   "outputs": [],
   "source": [
    "#46 Fancy Indexing of One-dimensional arrays"
   ]
  },
  {
   "cell_type": "code",
   "execution_count": 363,
   "id": "079ccfb5-e20f-4239-9eb8-4242e22451b8",
   "metadata": {},
   "outputs": [],
   "source": [
    "import numpy as np"
   ]
  },
  {
   "cell_type": "code",
   "execution_count": 368,
   "id": "57692c2a-79ad-4168-b084-51cddaab0b92",
   "metadata": {},
   "outputs": [
    {
     "data": {
      "text/plain": [
       "array([ 0,  5, 10, 15, 20, 25, 30, 35, 40, 45])"
      ]
     },
     "execution_count": 368,
     "metadata": {},
     "output_type": "execute_result"
    }
   ],
   "source": [
    "fancy=np.arange(0,50,5)\n",
    "fancy"
   ]
  },
  {
   "cell_type": "code",
   "execution_count": 370,
   "id": "42f6bceb-cb8e-40cb-bc74-782d22e087e9",
   "metadata": {},
   "outputs": [
    {
     "data": {
      "text/plain": [
       "5"
      ]
     },
     "execution_count": 370,
     "metadata": {},
     "output_type": "execute_result"
    }
   ],
   "source": [
    "fancy[1]"
   ]
  },
  {
   "cell_type": "code",
   "execution_count": 373,
   "id": "0f687dea-644d-429d-96f2-299c1fd8d8c4",
   "metadata": {},
   "outputs": [
    {
     "data": {
      "text/plain": [
       "15"
      ]
     },
     "execution_count": 373,
     "metadata": {},
     "output_type": "execute_result"
    }
   ],
   "source": [
    "fancy[3]"
   ]
  },
  {
   "cell_type": "code",
   "execution_count": 375,
   "id": "560d0fa2-2b01-4375-b5ca-962a95525471",
   "metadata": {},
   "outputs": [
    {
     "data": {
      "text/plain": [
       "25"
      ]
     },
     "execution_count": 375,
     "metadata": {},
     "output_type": "execute_result"
    }
   ],
   "source": [
    "fancy[5]"
   ]
  },
  {
   "cell_type": "code",
   "execution_count": 377,
   "id": "d96b3c19-56e6-4a78-88af-7dd4d05a0488",
   "metadata": {},
   "outputs": [
    {
     "data": {
      "text/plain": [
       "[5, 15, 25]"
      ]
     },
     "execution_count": 377,
     "metadata": {},
     "output_type": "execute_result"
    }
   ],
   "source": [
    "[fancy[1],fancy[3],fancy[5]]"
   ]
  },
  {
   "cell_type": "code",
   "execution_count": 379,
   "id": "caa3dfa0-85f3-45af-961d-2a46f7b4d07d",
   "metadata": {},
   "outputs": [],
   "source": [
    "indexes=[1,3,5]"
   ]
  },
  {
   "cell_type": "code",
   "execution_count": 381,
   "id": "347ca684-595e-4c3f-8544-02aaee1b757d",
   "metadata": {},
   "outputs": [
    {
     "data": {
      "text/plain": [
       "array([ 5, 15, 25])"
      ]
     },
     "execution_count": 381,
     "metadata": {},
     "output_type": "execute_result"
    }
   ],
   "source": [
    "fancy[indexes]"
   ]
  },
  {
   "cell_type": "code",
   "execution_count": 393,
   "id": "4b0a2511-9c6c-4b56-aa48-236feebecde7",
   "metadata": {},
   "outputs": [
    {
     "data": {
      "text/plain": [
       "array([1, 3, 5])"
      ]
     },
     "execution_count": 393,
     "metadata": {},
     "output_type": "execute_result"
    }
   ],
   "source": [
    "array=np.array([1,3,5])\n",
    "array"
   ]
  },
  {
   "cell_type": "code",
   "execution_count": 397,
   "id": "1364adcb-893e-4017-95a9-bdcb1fbd7193",
   "metadata": {},
   "outputs": [
    {
     "data": {
      "text/plain": [
       "array([ 5, 15, 25])"
      ]
     },
     "execution_count": 397,
     "metadata": {},
     "output_type": "execute_result"
    }
   ],
   "source": [
    "fancy[array]"
   ]
  },
  {
   "cell_type": "code",
   "execution_count": 399,
   "id": "56ebc385-0109-498b-b8f0-76c80b981c01",
   "metadata": {},
   "outputs": [],
   "source": [
    "#47 Fancy indexing of Two-dimensional arrays"
   ]
  },
  {
   "cell_type": "code",
   "execution_count": 401,
   "id": "297ed72d-1ac6-4160-b76b-784c8d198ad4",
   "metadata": {},
   "outputs": [],
   "source": [
    "import numpy as np"
   ]
  },
  {
   "cell_type": "code",
   "execution_count": 403,
   "id": "ad8e583b-3d18-4ea2-896f-af41d1a51b19",
   "metadata": {},
   "outputs": [
    {
     "data": {
      "text/plain": [
       "array([[0, 0, 0, 0, 0, 0, 0, 0, 0, 0],\n",
       "       [0, 0, 0, 0, 0, 0, 0, 0, 0, 0],\n",
       "       [0, 0, 0, 0, 0, 0, 0, 0, 0, 0],\n",
       "       [0, 0, 0, 0, 0, 0, 0, 0, 0, 0],\n",
       "       [0, 0, 0, 0, 0, 0, 0, 0, 0, 0],\n",
       "       [0, 0, 0, 0, 0, 0, 0, 0, 0, 0],\n",
       "       [0, 0, 0, 0, 0, 0, 0, 0, 0, 0],\n",
       "       [0, 0, 0, 0, 0, 0, 0, 0, 0, 0],\n",
       "       [0, 0, 0, 0, 0, 0, 0, 0, 0, 0],\n",
       "       [0, 0, 0, 0, 0, 0, 0, 0, 0, 0]])"
      ]
     },
     "execution_count": 403,
     "metadata": {},
     "output_type": "execute_result"
    }
   ],
   "source": [
    "variable=np.zeros((10,10),dtype=\"int\")\n",
    "variable"
   ]
  },
  {
   "cell_type": "code",
   "execution_count": 407,
   "id": "c3352cec-ff89-435a-93e0-847840fcefe7",
   "metadata": {},
   "outputs": [
    {
     "data": {
      "text/plain": [
       "(10, 10)"
      ]
     },
     "execution_count": 407,
     "metadata": {},
     "output_type": "execute_result"
    }
   ],
   "source": [
    "variable.shape"
   ]
  },
  {
   "cell_type": "code",
   "execution_count": 409,
   "id": "d7504242-ec43-415f-bb0f-82bf8dabd9e7",
   "metadata": {},
   "outputs": [
    {
     "data": {
      "text/plain": [
       "10"
      ]
     },
     "execution_count": 409,
     "metadata": {},
     "output_type": "execute_result"
    }
   ],
   "source": [
    "variable.shape[0]"
   ]
  },
  {
   "cell_type": "code",
   "execution_count": 411,
   "id": "6d5ff574-2b9b-4b09-9041-42e5b391b3d8",
   "metadata": {},
   "outputs": [],
   "source": [
    "row=variable.shape[0]"
   ]
  },
  {
   "cell_type": "code",
   "execution_count": 415,
   "id": "b034a5e2-3606-44ef-8418-dba276082859",
   "metadata": {},
   "outputs": [
    {
     "data": {
      "text/plain": [
       "array([[0, 0, 0, 0, 0, 0, 0, 0, 0, 0],\n",
       "       [1, 1, 1, 1, 1, 1, 1, 1, 1, 1],\n",
       "       [2, 2, 2, 2, 2, 2, 2, 2, 2, 2],\n",
       "       [3, 3, 3, 3, 3, 3, 3, 3, 3, 3],\n",
       "       [4, 4, 4, 4, 4, 4, 4, 4, 4, 4],\n",
       "       [5, 5, 5, 5, 5, 5, 5, 5, 5, 5],\n",
       "       [6, 6, 6, 6, 6, 6, 6, 6, 6, 6],\n",
       "       [7, 7, 7, 7, 7, 7, 7, 7, 7, 7],\n",
       "       [8, 8, 8, 8, 8, 8, 8, 8, 8, 8],\n",
       "       [9, 9, 9, 9, 9, 9, 9, 9, 9, 9]])"
      ]
     },
     "execution_count": 415,
     "metadata": {},
     "output_type": "execute_result"
    }
   ],
   "source": [
    "for i in range(row):\n",
    "    variable[i]=i \n",
    "variable"
   ]
  },
  {
   "cell_type": "code",
   "execution_count": 417,
   "id": "46ce0d87-5848-42c8-8775-6ba9c6e5dd9a",
   "metadata": {},
   "outputs": [],
   "source": [
    "list1=[1,3,5,7]"
   ]
  },
  {
   "cell_type": "code",
   "execution_count": 419,
   "id": "3bdf5c75-4462-4d12-81d8-740ce32123e0",
   "metadata": {},
   "outputs": [
    {
     "data": {
      "text/plain": [
       "array([[1, 1, 1, 1, 1, 1, 1, 1, 1, 1],\n",
       "       [3, 3, 3, 3, 3, 3, 3, 3, 3, 3],\n",
       "       [5, 5, 5, 5, 5, 5, 5, 5, 5, 5],\n",
       "       [7, 7, 7, 7, 7, 7, 7, 7, 7, 7]])"
      ]
     },
     "execution_count": 419,
     "metadata": {},
     "output_type": "execute_result"
    }
   ],
   "source": [
    "variable[list1]"
   ]
  },
  {
   "cell_type": "code",
   "execution_count": 421,
   "id": "60e4538e-4e52-4beb-bb8d-306b49a886e2",
   "metadata": {},
   "outputs": [],
   "source": [
    "list2=[8,5,2,7,3]"
   ]
  },
  {
   "cell_type": "code",
   "execution_count": 423,
   "id": "85d1a13a-f1ab-4eea-9c96-f6c9475957c2",
   "metadata": {},
   "outputs": [
    {
     "data": {
      "text/plain": [
       "array([[8, 8, 8, 8, 8, 8, 8, 8, 8, 8],\n",
       "       [5, 5, 5, 5, 5, 5, 5, 5, 5, 5],\n",
       "       [2, 2, 2, 2, 2, 2, 2, 2, 2, 2],\n",
       "       [7, 7, 7, 7, 7, 7, 7, 7, 7, 7],\n",
       "       [3, 3, 3, 3, 3, 3, 3, 3, 3, 3]])"
      ]
     },
     "execution_count": 423,
     "metadata": {},
     "output_type": "execute_result"
    }
   ],
   "source": [
    "variable[list2]"
   ]
  },
  {
   "cell_type": "code",
   "execution_count": 425,
   "id": "67aedcf6-2826-494d-b36b-c5bec7f7de10",
   "metadata": {},
   "outputs": [],
   "source": [
    "#to individually acces the elements in the array"
   ]
  },
  {
   "cell_type": "code",
   "execution_count": 429,
   "id": "b1c3f0fc-3dca-4a68-a531-4c783822e965",
   "metadata": {},
   "outputs": [],
   "source": [
    "example=np.arange(1,17).reshape((4,4))"
   ]
  },
  {
   "cell_type": "code",
   "execution_count": 435,
   "id": "1d67e722-c49b-49e9-b7d7-e1e2bfe7660b",
   "metadata": {},
   "outputs": [
    {
     "data": {
      "text/plain": [
       "array([[ 1,  2,  3,  4],\n",
       "       [ 5,  6,  7,  8],\n",
       "       [ 9, 10, 11, 12],\n",
       "       [13, 14, 15, 16]])"
      ]
     },
     "execution_count": 435,
     "metadata": {},
     "output_type": "execute_result"
    }
   ],
   "source": [
    "example"
   ]
  },
  {
   "cell_type": "code",
   "execution_count": 443,
   "id": "1c208c82-0993-4cd1-b2c5-91a2890f33c7",
   "metadata": {},
   "outputs": [
    {
     "data": {
      "text/plain": [
       "array([ 2, 15])"
      ]
     },
     "execution_count": 443,
     "metadata": {},
     "output_type": "execute_result"
    }
   ],
   "source": [
    "example[[0,3],[1,2]]"
   ]
  },
  {
   "cell_type": "code",
   "execution_count": 459,
   "id": "85a6bc53-3d98-4a62-840c-3962a3c7430a",
   "metadata": {},
   "outputs": [],
   "source": [
    "row=[0,2,3,1]\n",
    "column=[3,0,2,1]"
   ]
  },
  {
   "cell_type": "code",
   "execution_count": 463,
   "id": "b9698c4c-84f5-4f17-9ad0-343675e20ec5",
   "metadata": {},
   "outputs": [
    {
     "data": {
      "text/plain": [
       "array([ 4,  9, 15,  6])"
      ]
     },
     "execution_count": 463,
     "metadata": {},
     "output_type": "execute_result"
    }
   ],
   "source": [
    "example[row,column]"
   ]
  },
  {
   "cell_type": "code",
   "execution_count": 2,
   "id": "f99da516-930d-458c-81a5-e1808e441cb8",
   "metadata": {},
   "outputs": [],
   "source": [
    "#48 Combining Fancy Index with Normal Indexing"
   ]
  },
  {
   "cell_type": "code",
   "execution_count": 4,
   "id": "907950ac-49fd-42bd-a5c2-ae40e88a3e80",
   "metadata": {},
   "outputs": [],
   "source": [
    "import numpy as np"
   ]
  },
  {
   "cell_type": "code",
   "execution_count": 8,
   "id": "de234018-f915-488d-9008-9311fbb2ec83",
   "metadata": {},
   "outputs": [
    {
     "data": {
      "text/plain": [
       "array([[ 1,  2,  3,  4],\n",
       "       [ 5,  6,  7,  8],\n",
       "       [ 9, 10, 11, 12],\n",
       "       [13, 14, 15, 16]])"
      ]
     },
     "execution_count": 8,
     "metadata": {},
     "output_type": "execute_result"
    }
   ],
   "source": [
    "example=np.arange(1,17).reshape((4,4))\n",
    "example"
   ]
  },
  {
   "cell_type": "code",
   "execution_count": 10,
   "id": "3c6bd144-8013-43d4-aae3-11ed78d72fc9",
   "metadata": {},
   "outputs": [
    {
     "data": {
      "text/plain": [
       "array([6, 8])"
      ]
     },
     "execution_count": 10,
     "metadata": {},
     "output_type": "execute_result"
    }
   ],
   "source": [
    "example[1,[1,3]]"
   ]
  },
  {
   "cell_type": "code",
   "execution_count": 20,
   "id": "82ce0d39-f5f2-49a8-9d7b-5c84b8e59ecd",
   "metadata": {},
   "outputs": [
    {
     "data": {
      "text/plain": [
       "array([ 2, 14])"
      ]
     },
     "execution_count": 20,
     "metadata": {},
     "output_type": "execute_result"
    }
   ],
   "source": [
    "example[[0,3],1]"
   ]
  },
  {
   "cell_type": "code",
   "execution_count": 14,
   "id": "52e91558-aec1-49ac-ae1f-861a15940789",
   "metadata": {},
   "outputs": [],
   "source": [
    "#49 Combining Fancy Index with Normal Slicing"
   ]
  },
  {
   "cell_type": "code",
   "execution_count": 16,
   "id": "94e38327-31bf-40f0-ac0b-0f6a755801db",
   "metadata": {},
   "outputs": [],
   "source": [
    "import numpy as np"
   ]
  },
  {
   "cell_type": "code",
   "execution_count": 22,
   "id": "573a4f2c-74d3-42a7-8831-ed77af7cdf13",
   "metadata": {},
   "outputs": [
    {
     "data": {
      "text/plain": [
       "array([[ 1,  2,  3,  4],\n",
       "       [ 5,  6,  7,  8],\n",
       "       [ 9, 10, 11, 12],\n",
       "       [13, 14, 15, 16]])"
      ]
     },
     "execution_count": 22,
     "metadata": {},
     "output_type": "execute_result"
    }
   ],
   "source": [
    "example=np.arange(1,17).reshape((4,4))\n",
    "example"
   ]
  },
  {
   "cell_type": "code",
   "execution_count": 28,
   "id": "c2228446-04cb-47a0-bd60-b48412f67eb1",
   "metadata": {},
   "outputs": [
    {
     "data": {
      "text/plain": [
       "array([2, 3])"
      ]
     },
     "execution_count": 28,
     "metadata": {},
     "output_type": "execute_result"
    }
   ],
   "source": [
    "example[0,[1,2]]"
   ]
  },
  {
   "cell_type": "code",
   "execution_count": 30,
   "id": "126fffd5-37b7-4f25-bc00-f246044dd41c",
   "metadata": {},
   "outputs": [
    {
     "data": {
      "text/plain": [
       "array([[ 2,  3],\n",
       "       [ 6,  7],\n",
       "       [10, 11],\n",
       "       [14, 15]])"
      ]
     },
     "execution_count": 30,
     "metadata": {},
     "output_type": "execute_result"
    }
   ],
   "source": [
    "example[0:,[1,2]]"
   ]
  },
  {
   "cell_type": "code",
   "execution_count": 36,
   "id": "18abf817-3482-43a4-9851-80083e2a063f",
   "metadata": {},
   "outputs": [
    {
     "data": {
      "text/plain": [
       "array([[ 6,  7],\n",
       "       [10, 11]])"
      ]
     },
     "execution_count": 36,
     "metadata": {},
     "output_type": "execute_result"
    }
   ],
   "source": [
    "example[1:3,[1,2]]"
   ]
  },
  {
   "cell_type": "code",
   "execution_count": 38,
   "id": "4b8f9995-0c35-4623-9489-93d2711edbd0",
   "metadata": {},
   "outputs": [
    {
     "data": {
      "text/plain": [
       "array([[6, 7]])"
      ]
     },
     "execution_count": 38,
     "metadata": {},
     "output_type": "execute_result"
    }
   ],
   "source": [
    "example[1:2,[1,2]]"
   ]
  },
  {
   "cell_type": "code",
   "execution_count": 40,
   "id": "4a5c0b95-8afa-4d5f-898a-72157a6eb4e3",
   "metadata": {},
   "outputs": [],
   "source": [
    "#50 Operations with comparison operator"
   ]
  },
  {
   "cell_type": "code",
   "execution_count": 42,
   "id": "4392823d-e056-4cc6-a7b9-6905cfcd18c2",
   "metadata": {},
   "outputs": [],
   "source": [
    "import numpy as np"
   ]
  },
  {
   "cell_type": "code",
   "execution_count": 53,
   "id": "1fcc5955-886d-4fd0-94c4-b5be8338da36",
   "metadata": {},
   "outputs": [
    {
     "data": {
      "text/plain": [
       "array([ 1,  2,  3,  4,  5,  6,  7,  8,  9, 10])"
      ]
     },
     "execution_count": 53,
     "metadata": {},
     "output_type": "execute_result"
    }
   ],
   "source": [
    "array=np.arange(1,11)\n",
    "array"
   ]
  },
  {
   "cell_type": "code",
   "execution_count": 55,
   "id": "fbd56f65-61a5-4525-9560-d01dd25acb0c",
   "metadata": {},
   "outputs": [
    {
     "data": {
      "text/plain": [
       "array([False, False, False, False, False,  True,  True,  True,  True,\n",
       "        True])"
      ]
     },
     "execution_count": 55,
     "metadata": {},
     "output_type": "execute_result"
    }
   ],
   "source": [
    "array>5"
   ]
  },
  {
   "cell_type": "code",
   "execution_count": 57,
   "id": "80dd1e5b-cccb-4cd3-b1fa-5dca5c326047",
   "metadata": {},
   "outputs": [
    {
     "data": {
      "text/plain": [
       "array([ 6,  7,  8,  9, 10])"
      ]
     },
     "execution_count": 57,
     "metadata": {},
     "output_type": "execute_result"
    }
   ],
   "source": [
    "array[array>5]"
   ]
  },
  {
   "cell_type": "code",
   "execution_count": 61,
   "id": "6ec5c016-19a2-4f92-bc0d-0c3dbbca3c0e",
   "metadata": {},
   "outputs": [
    {
     "data": {
      "text/plain": [
       "array([ True,  True,  True,  True, False, False, False, False, False,\n",
       "       False])"
      ]
     },
     "execution_count": 61,
     "metadata": {},
     "output_type": "execute_result"
    }
   ],
   "source": [
    "condition=array<=4\n",
    "condition"
   ]
  },
  {
   "cell_type": "code",
   "execution_count": 65,
   "id": "db39b22b-948a-4f35-96fb-3320939cf326",
   "metadata": {},
   "outputs": [
    {
     "data": {
      "text/plain": [
       "array([1, 2, 3, 4])"
      ]
     },
     "execution_count": 65,
     "metadata": {},
     "output_type": "execute_result"
    }
   ],
   "source": [
    "array[condition]"
   ]
  },
  {
   "cell_type": "code",
   "execution_count": 67,
   "id": "e3be06c2-9ca2-430b-9aea-c97cb72bd6bd",
   "metadata": {},
   "outputs": [],
   "source": [
    "new_condition=(array!=8)&(array>=6)"
   ]
  },
  {
   "cell_type": "code",
   "execution_count": 69,
   "id": "6913f81e-622f-4ebe-8e7e-dc1c321ab680",
   "metadata": {},
   "outputs": [
    {
     "data": {
      "text/plain": [
       "array([ 6,  7,  9, 10])"
      ]
     },
     "execution_count": 69,
     "metadata": {},
     "output_type": "execute_result"
    }
   ],
   "source": [
    "array[new_condition]"
   ]
  },
  {
   "cell_type": "code",
   "execution_count": 71,
   "id": "32a5dbbb-02ca-4817-aa08-59661b7346c9",
   "metadata": {},
   "outputs": [
    {
     "data": {
      "text/plain": [
       "array([ 1,  2,  3,  4,  5,  6,  7,  8,  9, 10])"
      ]
     },
     "execution_count": 71,
     "metadata": {},
     "output_type": "execute_result"
    }
   ],
   "source": [
    "new_condition2=(array!=8)|(array>=6)\n",
    "array[new_condition2]"
   ]
  },
  {
   "cell_type": "code",
   "execution_count": 73,
   "id": "151cfb64-1d43-46e5-ab53-829e002bcf0b",
   "metadata": {},
   "outputs": [],
   "source": [
    "#51 Arithmetic operations in numpy"
   ]
  },
  {
   "cell_type": "code",
   "execution_count": 75,
   "id": "e14d4f07-ab41-4f55-a061-71e969364451",
   "metadata": {},
   "outputs": [],
   "source": [
    "import numpy as np"
   ]
  },
  {
   "cell_type": "code",
   "execution_count": 77,
   "id": "5f77b809-fa35-430d-8c18-a23bdd94bf1b",
   "metadata": {},
   "outputs": [
    {
     "data": {
      "text/plain": [
       "array([ 1,  2,  3,  4,  5,  6,  7,  8,  9, 10])"
      ]
     },
     "execution_count": 77,
     "metadata": {},
     "output_type": "execute_result"
    }
   ],
   "source": [
    "array=np.arange(1,11)\n",
    "array"
   ]
  },
  {
   "cell_type": "code",
   "execution_count": 79,
   "id": "23d0fba4-2b59-48b8-9d31-fe0241192911",
   "metadata": {},
   "outputs": [
    {
     "data": {
      "text/plain": [
       "array([-1,  0,  1,  2,  3,  4,  5,  6,  7,  8])"
      ]
     },
     "execution_count": 79,
     "metadata": {},
     "output_type": "execute_result"
    }
   ],
   "source": [
    "array -2"
   ]
  },
  {
   "cell_type": "code",
   "execution_count": 81,
   "id": "c0484ac7-736a-485c-9ff5-adbd6211ff5d",
   "metadata": {},
   "outputs": [
    {
     "data": {
      "text/plain": [
       "array([ 10,  20,  30,  40,  50,  60,  70,  80,  90, 100])"
      ]
     },
     "execution_count": 81,
     "metadata": {},
     "output_type": "execute_result"
    }
   ],
   "source": [
    "array*10"
   ]
  },
  {
   "cell_type": "code",
   "execution_count": 83,
   "id": "a2e3f1c5-6f35-4f36-a7a0-7221f45d97a1",
   "metadata": {},
   "outputs": [
    {
     "data": {
      "text/plain": [
       "array([0.1, 0.2, 0.3, 0.4, 0.5, 0.6, 0.7, 0.8, 0.9, 1. ])"
      ]
     },
     "execution_count": 83,
     "metadata": {},
     "output_type": "execute_result"
    }
   ],
   "source": [
    "array/10"
   ]
  },
  {
   "cell_type": "code",
   "execution_count": 85,
   "id": "3f600eb4-9cab-46b8-8b88-465c7c99cc10",
   "metadata": {},
   "outputs": [
    {
     "data": {
      "text/plain": [
       "array([ 6.,  8., 10., 12., 14., 16., 18., 20., 22., 24.])"
      ]
     },
     "execution_count": 85,
     "metadata": {},
     "output_type": "execute_result"
    }
   ],
   "source": [
    "((array*10)+20)/5"
   ]
  },
  {
   "cell_type": "code",
   "execution_count": 87,
   "id": "9309090c-42db-4c95-8274-ab9e6087cbb9",
   "metadata": {},
   "outputs": [
    {
     "data": {
      "text/plain": [
       "array([  1,   4,   9,  16,  25,  36,  49,  64,  81, 100])"
      ]
     },
     "execution_count": 87,
     "metadata": {},
     "output_type": "execute_result"
    }
   ],
   "source": [
    "array*array"
   ]
  },
  {
   "cell_type": "code",
   "execution_count": 89,
   "id": "a8bd9fce-0136-40a5-86ed-7b8907193109",
   "metadata": {},
   "outputs": [
    {
     "data": {
      "text/plain": [
       "array([1., 1., 1., 1., 1., 1., 1., 1., 1., 1.])"
      ]
     },
     "execution_count": 89,
     "metadata": {},
     "output_type": "execute_result"
    }
   ],
   "source": [
    "array/array"
   ]
  },
  {
   "cell_type": "code",
   "execution_count": 91,
   "id": "7b3396f6-7f9c-48be-bc5e-319d6e870e34",
   "metadata": {},
   "outputs": [
    {
     "data": {
      "text/plain": [
       "array([-1,  0,  1,  2,  3,  4,  5,  6,  7,  8])"
      ]
     },
     "execution_count": 91,
     "metadata": {},
     "output_type": "execute_result"
    }
   ],
   "source": [
    "np.subtract(array,2)"
   ]
  },
  {
   "cell_type": "code",
   "execution_count": 93,
   "id": "2289359c-7976-429f-acd0-cc00d211ca84",
   "metadata": {},
   "outputs": [
    {
     "data": {
      "text/plain": [
       "array([ 10,  20,  30,  40,  50,  60,  70,  80,  90, 100])"
      ]
     },
     "execution_count": 93,
     "metadata": {},
     "output_type": "execute_result"
    }
   ],
   "source": [
    "np.multiply(array,10)"
   ]
  },
  {
   "cell_type": "code",
   "execution_count": 95,
   "id": "7ed2e77c-61d8-4511-936b-f5c6abc2030e",
   "metadata": {},
   "outputs": [
    {
     "data": {
      "text/plain": [
       "array([21, 22, 23, 24, 25, 26, 27, 28, 29, 30])"
      ]
     },
     "execution_count": 95,
     "metadata": {},
     "output_type": "execute_result"
    }
   ],
   "source": [
    "np.add(array,20)"
   ]
  },
  {
   "cell_type": "code",
   "execution_count": 97,
   "id": "32f87b46-73d8-4be2-bdd9-4d2ba82dec5c",
   "metadata": {},
   "outputs": [
    {
     "data": {
      "text/plain": [
       "array([0.1, 0.2, 0.3, 0.4, 0.5, 0.6, 0.7, 0.8, 0.9, 1. ])"
      ]
     },
     "execution_count": 97,
     "metadata": {},
     "output_type": "execute_result"
    }
   ],
   "source": [
    "np.divide(array,10)"
   ]
  },
  {
   "cell_type": "code",
   "execution_count": 99,
   "id": "ca3d0c4a-f5f4-4c74-afcd-ddafebd8bb94",
   "metadata": {},
   "outputs": [
    {
     "data": {
      "text/plain": [
       "array([   1,    8,   27,   64,  125,  216,  343,  512,  729, 1000],\n",
       "      dtype=int32)"
      ]
     },
     "execution_count": 99,
     "metadata": {},
     "output_type": "execute_result"
    }
   ],
   "source": [
    "array**3"
   ]
  },
  {
   "cell_type": "code",
   "execution_count": 101,
   "id": "2a856bb7-c471-43b4-8b02-4c2cf79d3762",
   "metadata": {},
   "outputs": [
    {
     "data": {
      "text/plain": [
       "array([   1,    8,   27,   64,  125,  216,  343,  512,  729, 1000],\n",
       "      dtype=int32)"
      ]
     },
     "execution_count": 101,
     "metadata": {},
     "output_type": "execute_result"
    }
   ],
   "source": [
    "np.power(array,3)"
   ]
  },
  {
   "cell_type": "code",
   "execution_count": 103,
   "id": "917e7796-68e8-48c4-bba8-26f6a9014d50",
   "metadata": {},
   "outputs": [
    {
     "data": {
      "text/plain": [
       "2.0"
      ]
     },
     "execution_count": 103,
     "metadata": {},
     "output_type": "execute_result"
    }
   ],
   "source": [
    "np.sqrt(4)"
   ]
  },
  {
   "cell_type": "code",
   "execution_count": 105,
   "id": "717971dd-e7ba-4704-92d2-0359cdcc7021",
   "metadata": {},
   "outputs": [
    {
     "data": {
      "text/plain": [
       "10.0"
      ]
     },
     "execution_count": 105,
     "metadata": {},
     "output_type": "execute_result"
    }
   ],
   "source": [
    "np.sqrt(100)"
   ]
  },
  {
   "cell_type": "code",
   "execution_count": 107,
   "id": "1f8661e6-77f6-48a6-84d6-1be1bdafa502",
   "metadata": {},
   "outputs": [
    {
     "data": {
      "text/plain": [
       "array([1, 2, 3, 4, 0, 1, 2, 3, 4, 0], dtype=int32)"
      ]
     },
     "execution_count": 107,
     "metadata": {},
     "output_type": "execute_result"
    }
   ],
   "source": [
    "array%5"
   ]
  },
  {
   "cell_type": "code",
   "execution_count": 109,
   "id": "3f61b116-4538-445d-b4aa-a2afadea0c9c",
   "metadata": {},
   "outputs": [
    {
     "data": {
      "text/plain": [
       "array([1, 2, 3, 4, 0, 1, 2, 3, 4, 0], dtype=int32)"
      ]
     },
     "execution_count": 109,
     "metadata": {},
     "output_type": "execute_result"
    }
   ],
   "source": [
    "np.mod(array,5)"
   ]
  },
  {
   "cell_type": "code",
   "execution_count": 111,
   "id": "0238e096-d953-4bad-9503-6650d45a808a",
   "metadata": {},
   "outputs": [
    {
     "data": {
      "text/plain": [
       "-0.8011526357338304"
      ]
     },
     "execution_count": 111,
     "metadata": {},
     "output_type": "execute_result"
    }
   ],
   "source": [
    "np.sin(180)"
   ]
  },
  {
   "cell_type": "code",
   "execution_count": 113,
   "id": "eb2c5e39-d9b5-4582-9eda-d2706bdb5862",
   "metadata": {},
   "outputs": [
    {
     "data": {
      "text/plain": [
       "-0.5984600690578581"
      ]
     },
     "execution_count": 113,
     "metadata": {},
     "output_type": "execute_result"
    }
   ],
   "source": [
    "np.cos(180)"
   ]
  },
  {
   "cell_type": "code",
   "execution_count": 115,
   "id": "941c2c57-18e7-4186-af4d-2754ce207f65",
   "metadata": {},
   "outputs": [
    {
     "data": {
      "text/plain": [
       "array([0.        , 0.69314718, 1.09861229, 1.38629436, 1.60943791,\n",
       "       1.79175947, 1.94591015, 2.07944154, 2.19722458, 2.30258509])"
      ]
     },
     "execution_count": 115,
     "metadata": {},
     "output_type": "execute_result"
    }
   ],
   "source": [
    "np.log(array)"
   ]
  },
  {
   "cell_type": "code",
   "execution_count": 117,
   "id": "ab329563-ffee-487b-a80a-c1f4e116fed2",
   "metadata": {},
   "outputs": [
    {
     "data": {
      "text/plain": [
       "array([0.        , 0.30103   , 0.47712125, 0.60205999, 0.69897   ,\n",
       "       0.77815125, 0.84509804, 0.90308999, 0.95424251, 1.        ])"
      ]
     },
     "execution_count": 117,
     "metadata": {},
     "output_type": "execute_result"
    }
   ],
   "source": [
    "np.log10(array)"
   ]
  },
  {
   "cell_type": "code",
   "execution_count": 119,
   "id": "fbd24d33-e76d-43ef-8822-41a62cdcb655",
   "metadata": {},
   "outputs": [],
   "source": [
    "#52 Statistical operators in NumPy"
   ]
  },
  {
   "cell_type": "code",
   "execution_count": 121,
   "id": "39e61b9c-fe37-4980-a967-8bf1c6d982d3",
   "metadata": {},
   "outputs": [],
   "source": [
    "import numpy as np"
   ]
  },
  {
   "cell_type": "code",
   "execution_count": 123,
   "id": "c6782fe4-0c3a-4150-82ca-e34c56ea6c3f",
   "metadata": {},
   "outputs": [],
   "source": [
    "array=np.arange(1,11)"
   ]
  },
  {
   "cell_type": "code",
   "execution_count": 125,
   "id": "ed58c309-97e9-421d-91b9-a01592d3743c",
   "metadata": {},
   "outputs": [
    {
     "data": {
      "text/plain": [
       "array([ 1,  2,  3,  4,  5,  6,  7,  8,  9, 10])"
      ]
     },
     "execution_count": 125,
     "metadata": {},
     "output_type": "execute_result"
    }
   ],
   "source": [
    "array"
   ]
  },
  {
   "cell_type": "code",
   "execution_count": 127,
   "id": "34dc682b-5ebd-492b-a255-9bfd594b956a",
   "metadata": {},
   "outputs": [
    {
     "data": {
      "text/plain": [
       "55"
      ]
     },
     "execution_count": 127,
     "metadata": {},
     "output_type": "execute_result"
    }
   ],
   "source": [
    "np.sum(array)"
   ]
  },
  {
   "cell_type": "code",
   "execution_count": 129,
   "id": "f2b929f4-2017-434c-bfe7-09e4a970935b",
   "metadata": {},
   "outputs": [
    {
     "data": {
      "text/plain": [
       "5.5"
      ]
     },
     "execution_count": 129,
     "metadata": {},
     "output_type": "execute_result"
    }
   ],
   "source": [
    "np.mean(array)"
   ]
  },
  {
   "cell_type": "code",
   "execution_count": 131,
   "id": "c907b642-2585-4854-bb1a-d86715911b1c",
   "metadata": {},
   "outputs": [
    {
     "data": {
      "text/plain": [
       "5.5"
      ]
     },
     "execution_count": 131,
     "metadata": {},
     "output_type": "execute_result"
    }
   ],
   "source": [
    "np.median(array)"
   ]
  },
  {
   "cell_type": "code",
   "execution_count": 133,
   "id": "08574b79-4594-43ad-a5b2-8fca083d6e69",
   "metadata": {},
   "outputs": [
    {
     "data": {
      "text/plain": [
       "1"
      ]
     },
     "execution_count": 133,
     "metadata": {},
     "output_type": "execute_result"
    }
   ],
   "source": [
    "np.min(array)"
   ]
  },
  {
   "cell_type": "code",
   "execution_count": 139,
   "id": "435da609-bf27-4019-ac9c-a233c4c75ec3",
   "metadata": {},
   "outputs": [
    {
     "data": {
      "text/plain": [
       "10"
      ]
     },
     "execution_count": 139,
     "metadata": {},
     "output_type": "execute_result"
    }
   ],
   "source": [
    "np.max(array)"
   ]
  },
  {
   "cell_type": "code",
   "execution_count": 141,
   "id": "cb365e4c-8a7c-4bbc-a443-c724570e7a72",
   "metadata": {},
   "outputs": [
    {
     "data": {
      "text/plain": [
       "2.8722813232690143"
      ]
     },
     "execution_count": 141,
     "metadata": {},
     "output_type": "execute_result"
    }
   ],
   "source": [
    "np.std(array)"
   ]
  },
  {
   "cell_type": "code",
   "execution_count": 143,
   "id": "4afee739-a387-4399-8f84-a322cc73e649",
   "metadata": {},
   "outputs": [
    {
     "data": {
      "text/plain": [
       "8.25"
      ]
     },
     "execution_count": 143,
     "metadata": {},
     "output_type": "execute_result"
    }
   ],
   "source": [
    "np.var(array)"
   ]
  },
  {
   "cell_type": "code",
   "execution_count": 145,
   "id": "ab97d5b3-06f7-4b47-9361-cbc1a0095e0e",
   "metadata": {},
   "outputs": [
    {
     "data": {
      "text/plain": [
       "2.8722813232690143"
      ]
     },
     "execution_count": 145,
     "metadata": {},
     "output_type": "execute_result"
    }
   ],
   "source": [
    "np.sqrt(8.25)"
   ]
  },
  {
   "cell_type": "code",
   "execution_count": 147,
   "id": "499da067-7837-4bb6-a5f3-3451c5712aba",
   "metadata": {},
   "outputs": [
    {
     "data": {
      "text/plain": [
       "2.8722813232690143"
      ]
     },
     "execution_count": 147,
     "metadata": {},
     "output_type": "execute_result"
    }
   ],
   "source": [
    "np.sqrt(np.var(array))"
   ]
  },
  {
   "cell_type": "code",
   "execution_count": 149,
   "id": "73c36f02-b427-4c8f-aa5d-8674528dc2b0",
   "metadata": {},
   "outputs": [],
   "source": [
    "#53 Solving Second degree equation with numpy"
   ]
  },
  {
   "cell_type": "code",
   "execution_count": 151,
   "id": "9a7c5305-6e99-4258-8571-3ef6afd26be0",
   "metadata": {},
   "outputs": [],
   "source": [
    "import numpy as np"
   ]
  },
  {
   "cell_type": "markdown",
   "id": "4811376e-474c-4401-ace5-cc4115bc9c86",
   "metadata": {},
   "source": [
    "2X1+X2=5\n",
    "-3X1+6X2=0\n"
   ]
  },
  {
   "cell_type": "code",
   "execution_count": 162,
   "id": "5aaa1c2c-3520-4c53-9097-fcb09aba1cd4",
   "metadata": {},
   "outputs": [
    {
     "data": {
      "text/plain": [
       "array([[ 2,  1],\n",
       "       [-3,  6]])"
      ]
     },
     "execution_count": 162,
     "metadata": {},
     "output_type": "execute_result"
    }
   ],
   "source": [
    "coefficient=np.array([[2,1],[-3,6]])\n",
    "coefficient"
   ]
  },
  {
   "cell_type": "code",
   "execution_count": 164,
   "id": "2e297f35-db56-4595-9ea9-95fbc6152f26",
   "metadata": {},
   "outputs": [
    {
     "data": {
      "text/plain": [
       "array([5, 0])"
      ]
     },
     "execution_count": 164,
     "metadata": {},
     "output_type": "execute_result"
    }
   ],
   "source": [
    "output=np.array([5,0])\n",
    "output"
   ]
  },
  {
   "cell_type": "code",
   "execution_count": 166,
   "id": "18b8643a-f8f5-4034-b9db-c6b6df998ec8",
   "metadata": {},
   "outputs": [
    {
     "data": {
      "text/plain": [
       "array([2., 1.])"
      ]
     },
     "execution_count": 166,
     "metadata": {},
     "output_type": "execute_result"
    }
   ],
   "source": [
    "np.linalg.solve(coefficient,output)"
   ]
  },
  {
   "cell_type": "code",
   "execution_count": null,
   "id": "c1cf0b44-90b7-46e6-932e-3ccb392d84f2",
   "metadata": {},
   "outputs": [],
   "source": []
  }
 ],
 "metadata": {
  "kernelspec": {
   "display_name": "Python 3",
   "language": "python",
   "name": "python3"
  },
  "language_info": {
   "codemirror_mode": {
    "name": "ipython",
    "version": 3
   },
   "file_extension": ".py",
   "mimetype": "text/x-python",
   "name": "python",
   "nbconvert_exporter": "python",
   "pygments_lexer": "ipython3",
   "version": "3.12.7"
  }
 },
 "nbformat": 4,
 "nbformat_minor": 5
}
